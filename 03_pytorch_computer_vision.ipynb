{
  "nbformat": 4,
  "nbformat_minor": 0,
  "metadata": {
    "colab": {
      "provenance": [],
      "authorship_tag": "ABX9TyN2kJEg4U9Qhk04c1s5gDqU",
      "include_colab_link": true
    },
    "kernelspec": {
      "name": "python3",
      "display_name": "Python 3"
    },
    "language_info": {
      "name": "python"
    }
  },
  "cells": [
    {
      "cell_type": "markdown",
      "metadata": {
        "id": "view-in-github",
        "colab_type": "text"
      },
      "source": [
        "<a href=\"https://colab.research.google.com/github/arosha27/Week4-LearnPyTorch/blob/main/03_pytorch_computer_vision.ipynb\" target=\"_parent\"><img src=\"https://colab.research.google.com/assets/colab-badge.svg\" alt=\"Open In Colab\"/></a>"
      ]
    },
    {
      "cell_type": "markdown",
      "source": [
        "# PyTorch Computer Vision\n",
        "- ### Example of computer vision problems:\n",
        "    - Binary classofication\n",
        "    - Multiclass classification\n",
        "    - Object detection\n",
        "    - Image segmentation\n"
      ],
      "metadata": {
        "id": "8jsJfeykGZQU"
      }
    },
    {
      "cell_type": "markdown",
      "source": [
        "# What we will will covering:\n",
        "- Getting a vision dataset to work with using the torchvision.datasets\n",
        "- Architecture of a convulational neural network (CNN) with pytorch\n",
        "- An end to end multi class image classification problem\n",
        "- steps in modelling with CNNs in pytorch\n",
        "    - Creating a CNN model with pyTorch\n",
        "    - Picking the loss and optimizer\n",
        "    - Training the model\n",
        "    - Evaluating the model"
      ],
      "metadata": {
        "id": "m0ZKL8xKINAO"
      }
    },
    {
      "cell_type": "markdown",
      "source": [
        "# 0. Computer Vision Libraries\n",
        "- `torchvision.datasets` : get datasets and data loading functions for computer vision\n",
        "- `torchvision.models` : get pre-trained model that you can leverage for your own problem\n",
        "- `torchvision.transform` : functions for manipulating your vision data (images) to be suitable for use with an ML model\n",
        "- `torch.utils.data.Datase` : Base dataset class for pytorch\n",
        "- `torch.utils.data.DataLoader` : creates a Python iterable over a dataset"
      ],
      "metadata": {
        "id": "sIx49OtCK7Dh"
      }
    },
    {
      "cell_type": "code",
      "source": [
        "#import torch\n",
        "import torch\n",
        "from torch import nn\n",
        "\n",
        "#import torchvision\n",
        "import torchvision\n",
        "from torchvision import datasets\n",
        "from torchvision import transforms\n",
        "from torchvision.transforms import ToTensor #for converting ndarray and images to tensor\n",
        "\n",
        "#visiualization\n",
        "import matplotlib.pyplot as plt\n",
        "\n",
        "#versions\n",
        "print(torch.__version__)\n",
        "print(torchvision.__version__)"
      ],
      "metadata": {
        "colab": {
          "base_uri": "https://localhost:8080/"
        },
        "id": "x7kP0oR-K-nn",
        "outputId": "c96e9f31-90b0-40bb-d3d0-271ab2e4b16b"
      },
      "execution_count": 4,
      "outputs": [
        {
          "output_type": "stream",
          "name": "stdout",
          "text": [
            "2.6.0+cu124\n",
            "0.21.0+cu124\n"
          ]
        }
      ]
    },
    {
      "cell_type": "markdown",
      "source": [
        "# 1.Getting a Computer Vision Dataset"
      ],
      "metadata": {
        "id": "lqPyT8uDNHCC"
      }
    },
    {
      "cell_type": "code",
      "source": [
        "from torchvision import datasets\n",
        "#Train Data\n",
        "train_data = datasets.FashionMNIST(\n",
        "    root = \"data\", #where we want to download the data or folder name\n",
        "    train = True , #telling we want training data\n",
        "    download = True , # true means we want to downlaod the dataset\n",
        "    transform = torchvision.transforms.ToTensor(), #imgaes to tensor\n",
        "    target_transform = None #how do we want to transform the label\n",
        ")\n",
        "\n",
        "#Test Data\n",
        "test_data = datasets.FashionMNIST(\n",
        "    root= \"data\" ,\n",
        "    train = False,\n",
        "    download = True,\n",
        "    transform = ToTensor(),\n",
        "    target_transform = None\n",
        ")"
      ],
      "metadata": {
        "id": "RYLsdG3BP13x",
        "colab": {
          "base_uri": "https://localhost:8080/"
        },
        "outputId": "afa8ca4c-6562-401d-adf6-8281fcf28c8c"
      },
      "execution_count": 5,
      "outputs": [
        {
          "output_type": "stream",
          "name": "stderr",
          "text": [
            "100%|██████████| 26.4M/26.4M [00:01<00:00, 17.2MB/s]\n",
            "100%|██████████| 29.5k/29.5k [00:00<00:00, 302kB/s]\n",
            "100%|██████████| 4.42M/4.42M [00:00<00:00, 5.57MB/s]\n",
            "100%|██████████| 5.15k/5.15k [00:00<00:00, 7.29MB/s]\n"
          ]
        }
      ]
    },
    {
      "cell_type": "code",
      "source": [
        "#check the data - How many samples do we have?\n",
        "len(train_data) , len(test_data)"
      ],
      "metadata": {
        "colab": {
          "base_uri": "https://localhost:8080/"
        },
        "id": "Cd7ZBsc9P16P",
        "outputId": "26589645-2d49-4150-bc97-b5a0f0197c1e"
      },
      "execution_count": 6,
      "outputs": [
        {
          "output_type": "execute_result",
          "data": {
            "text/plain": [
              "(60000, 10000)"
            ]
          },
          "metadata": {},
          "execution_count": 6
        }
      ]
    },
    {
      "cell_type": "code",
      "source": [
        "#see the first training example\n",
        "image , label = train_data[0]\n",
        "image , label"
      ],
      "metadata": {
        "colab": {
          "base_uri": "https://localhost:8080/"
        },
        "id": "NkS6f8GXP19x",
        "outputId": "c86f6794-ab23-4373-8b79-d3be4bfa898d"
      },
      "execution_count": 7,
      "outputs": [
        {
          "output_type": "execute_result",
          "data": {
            "text/plain": [
              "(tensor([[[0.0000, 0.0000, 0.0000, 0.0000, 0.0000, 0.0000, 0.0000, 0.0000,\n",
              "           0.0000, 0.0000, 0.0000, 0.0000, 0.0000, 0.0000, 0.0000, 0.0000,\n",
              "           0.0000, 0.0000, 0.0000, 0.0000, 0.0000, 0.0000, 0.0000, 0.0000,\n",
              "           0.0000, 0.0000, 0.0000, 0.0000],\n",
              "          [0.0000, 0.0000, 0.0000, 0.0000, 0.0000, 0.0000, 0.0000, 0.0000,\n",
              "           0.0000, 0.0000, 0.0000, 0.0000, 0.0000, 0.0000, 0.0000, 0.0000,\n",
              "           0.0000, 0.0000, 0.0000, 0.0000, 0.0000, 0.0000, 0.0000, 0.0000,\n",
              "           0.0000, 0.0000, 0.0000, 0.0000],\n",
              "          [0.0000, 0.0000, 0.0000, 0.0000, 0.0000, 0.0000, 0.0000, 0.0000,\n",
              "           0.0000, 0.0000, 0.0000, 0.0000, 0.0000, 0.0000, 0.0000, 0.0000,\n",
              "           0.0000, 0.0000, 0.0000, 0.0000, 0.0000, 0.0000, 0.0000, 0.0000,\n",
              "           0.0000, 0.0000, 0.0000, 0.0000],\n",
              "          [0.0000, 0.0000, 0.0000, 0.0000, 0.0000, 0.0000, 0.0000, 0.0000,\n",
              "           0.0000, 0.0000, 0.0000, 0.0000, 0.0039, 0.0000, 0.0000, 0.0510,\n",
              "           0.2863, 0.0000, 0.0000, 0.0039, 0.0157, 0.0000, 0.0000, 0.0000,\n",
              "           0.0000, 0.0039, 0.0039, 0.0000],\n",
              "          [0.0000, 0.0000, 0.0000, 0.0000, 0.0000, 0.0000, 0.0000, 0.0000,\n",
              "           0.0000, 0.0000, 0.0000, 0.0000, 0.0118, 0.0000, 0.1412, 0.5333,\n",
              "           0.4980, 0.2431, 0.2118, 0.0000, 0.0000, 0.0000, 0.0039, 0.0118,\n",
              "           0.0157, 0.0000, 0.0000, 0.0118],\n",
              "          [0.0000, 0.0000, 0.0000, 0.0000, 0.0000, 0.0000, 0.0000, 0.0000,\n",
              "           0.0000, 0.0000, 0.0000, 0.0000, 0.0235, 0.0000, 0.4000, 0.8000,\n",
              "           0.6902, 0.5255, 0.5647, 0.4824, 0.0902, 0.0000, 0.0000, 0.0000,\n",
              "           0.0000, 0.0471, 0.0392, 0.0000],\n",
              "          [0.0000, 0.0000, 0.0000, 0.0000, 0.0000, 0.0000, 0.0000, 0.0000,\n",
              "           0.0000, 0.0000, 0.0000, 0.0000, 0.0000, 0.0000, 0.6078, 0.9255,\n",
              "           0.8118, 0.6980, 0.4196, 0.6118, 0.6314, 0.4275, 0.2510, 0.0902,\n",
              "           0.3020, 0.5098, 0.2824, 0.0588],\n",
              "          [0.0000, 0.0000, 0.0000, 0.0000, 0.0000, 0.0000, 0.0000, 0.0000,\n",
              "           0.0000, 0.0000, 0.0000, 0.0039, 0.0000, 0.2706, 0.8118, 0.8745,\n",
              "           0.8549, 0.8471, 0.8471, 0.6392, 0.4980, 0.4745, 0.4784, 0.5725,\n",
              "           0.5529, 0.3451, 0.6745, 0.2588],\n",
              "          [0.0000, 0.0000, 0.0000, 0.0000, 0.0000, 0.0000, 0.0000, 0.0000,\n",
              "           0.0000, 0.0039, 0.0039, 0.0039, 0.0000, 0.7843, 0.9098, 0.9098,\n",
              "           0.9137, 0.8980, 0.8745, 0.8745, 0.8431, 0.8353, 0.6431, 0.4980,\n",
              "           0.4824, 0.7686, 0.8980, 0.0000],\n",
              "          [0.0000, 0.0000, 0.0000, 0.0000, 0.0000, 0.0000, 0.0000, 0.0000,\n",
              "           0.0000, 0.0000, 0.0000, 0.0000, 0.0000, 0.7176, 0.8824, 0.8471,\n",
              "           0.8745, 0.8941, 0.9216, 0.8902, 0.8784, 0.8706, 0.8784, 0.8667,\n",
              "           0.8745, 0.9608, 0.6784, 0.0000],\n",
              "          [0.0000, 0.0000, 0.0000, 0.0000, 0.0000, 0.0000, 0.0000, 0.0000,\n",
              "           0.0000, 0.0000, 0.0000, 0.0000, 0.0000, 0.7569, 0.8941, 0.8549,\n",
              "           0.8353, 0.7765, 0.7059, 0.8314, 0.8235, 0.8275, 0.8353, 0.8745,\n",
              "           0.8627, 0.9529, 0.7922, 0.0000],\n",
              "          [0.0000, 0.0000, 0.0000, 0.0000, 0.0000, 0.0000, 0.0000, 0.0000,\n",
              "           0.0000, 0.0039, 0.0118, 0.0000, 0.0471, 0.8588, 0.8627, 0.8314,\n",
              "           0.8549, 0.7529, 0.6627, 0.8902, 0.8157, 0.8549, 0.8784, 0.8314,\n",
              "           0.8863, 0.7725, 0.8196, 0.2039],\n",
              "          [0.0000, 0.0000, 0.0000, 0.0000, 0.0000, 0.0000, 0.0000, 0.0000,\n",
              "           0.0000, 0.0000, 0.0235, 0.0000, 0.3882, 0.9569, 0.8706, 0.8627,\n",
              "           0.8549, 0.7961, 0.7765, 0.8667, 0.8431, 0.8353, 0.8706, 0.8627,\n",
              "           0.9608, 0.4667, 0.6549, 0.2196],\n",
              "          [0.0000, 0.0000, 0.0000, 0.0000, 0.0000, 0.0000, 0.0000, 0.0000,\n",
              "           0.0000, 0.0157, 0.0000, 0.0000, 0.2157, 0.9255, 0.8941, 0.9020,\n",
              "           0.8941, 0.9412, 0.9098, 0.8353, 0.8549, 0.8745, 0.9176, 0.8510,\n",
              "           0.8510, 0.8196, 0.3608, 0.0000],\n",
              "          [0.0000, 0.0000, 0.0039, 0.0157, 0.0235, 0.0275, 0.0078, 0.0000,\n",
              "           0.0000, 0.0000, 0.0000, 0.0000, 0.9294, 0.8863, 0.8510, 0.8745,\n",
              "           0.8706, 0.8588, 0.8706, 0.8667, 0.8471, 0.8745, 0.8980, 0.8431,\n",
              "           0.8549, 1.0000, 0.3020, 0.0000],\n",
              "          [0.0000, 0.0118, 0.0000, 0.0000, 0.0000, 0.0000, 0.0000, 0.0000,\n",
              "           0.0000, 0.2431, 0.5686, 0.8000, 0.8941, 0.8118, 0.8353, 0.8667,\n",
              "           0.8549, 0.8157, 0.8275, 0.8549, 0.8784, 0.8745, 0.8588, 0.8431,\n",
              "           0.8784, 0.9569, 0.6235, 0.0000],\n",
              "          [0.0000, 0.0000, 0.0000, 0.0000, 0.0706, 0.1725, 0.3216, 0.4196,\n",
              "           0.7412, 0.8941, 0.8627, 0.8706, 0.8510, 0.8863, 0.7843, 0.8039,\n",
              "           0.8275, 0.9020, 0.8784, 0.9176, 0.6902, 0.7373, 0.9804, 0.9725,\n",
              "           0.9137, 0.9333, 0.8431, 0.0000],\n",
              "          [0.0000, 0.2235, 0.7333, 0.8157, 0.8784, 0.8667, 0.8784, 0.8157,\n",
              "           0.8000, 0.8392, 0.8157, 0.8196, 0.7843, 0.6235, 0.9608, 0.7569,\n",
              "           0.8078, 0.8745, 1.0000, 1.0000, 0.8667, 0.9176, 0.8667, 0.8275,\n",
              "           0.8627, 0.9098, 0.9647, 0.0000],\n",
              "          [0.0118, 0.7922, 0.8941, 0.8784, 0.8667, 0.8275, 0.8275, 0.8392,\n",
              "           0.8039, 0.8039, 0.8039, 0.8627, 0.9412, 0.3137, 0.5882, 1.0000,\n",
              "           0.8980, 0.8667, 0.7373, 0.6039, 0.7490, 0.8235, 0.8000, 0.8196,\n",
              "           0.8706, 0.8941, 0.8824, 0.0000],\n",
              "          [0.3843, 0.9137, 0.7765, 0.8235, 0.8706, 0.8980, 0.8980, 0.9176,\n",
              "           0.9765, 0.8627, 0.7608, 0.8431, 0.8510, 0.9451, 0.2549, 0.2863,\n",
              "           0.4157, 0.4588, 0.6588, 0.8588, 0.8667, 0.8431, 0.8510, 0.8745,\n",
              "           0.8745, 0.8784, 0.8980, 0.1137],\n",
              "          [0.2941, 0.8000, 0.8314, 0.8000, 0.7569, 0.8039, 0.8275, 0.8824,\n",
              "           0.8471, 0.7255, 0.7725, 0.8078, 0.7765, 0.8353, 0.9412, 0.7647,\n",
              "           0.8902, 0.9608, 0.9373, 0.8745, 0.8549, 0.8314, 0.8196, 0.8706,\n",
              "           0.8627, 0.8667, 0.9020, 0.2627],\n",
              "          [0.1882, 0.7961, 0.7176, 0.7608, 0.8353, 0.7725, 0.7255, 0.7451,\n",
              "           0.7608, 0.7529, 0.7922, 0.8392, 0.8588, 0.8667, 0.8627, 0.9255,\n",
              "           0.8824, 0.8471, 0.7804, 0.8078, 0.7294, 0.7098, 0.6941, 0.6745,\n",
              "           0.7098, 0.8039, 0.8078, 0.4510],\n",
              "          [0.0000, 0.4784, 0.8588, 0.7569, 0.7020, 0.6706, 0.7176, 0.7686,\n",
              "           0.8000, 0.8235, 0.8353, 0.8118, 0.8275, 0.8235, 0.7843, 0.7686,\n",
              "           0.7608, 0.7490, 0.7647, 0.7490, 0.7765, 0.7529, 0.6902, 0.6118,\n",
              "           0.6549, 0.6941, 0.8235, 0.3608],\n",
              "          [0.0000, 0.0000, 0.2902, 0.7412, 0.8314, 0.7490, 0.6863, 0.6745,\n",
              "           0.6863, 0.7098, 0.7255, 0.7373, 0.7412, 0.7373, 0.7569, 0.7765,\n",
              "           0.8000, 0.8196, 0.8235, 0.8235, 0.8275, 0.7373, 0.7373, 0.7608,\n",
              "           0.7529, 0.8471, 0.6667, 0.0000],\n",
              "          [0.0078, 0.0000, 0.0000, 0.0000, 0.2588, 0.7843, 0.8706, 0.9294,\n",
              "           0.9373, 0.9490, 0.9647, 0.9529, 0.9569, 0.8667, 0.8627, 0.7569,\n",
              "           0.7490, 0.7020, 0.7137, 0.7137, 0.7098, 0.6902, 0.6510, 0.6588,\n",
              "           0.3882, 0.2275, 0.0000, 0.0000],\n",
              "          [0.0000, 0.0000, 0.0000, 0.0000, 0.0000, 0.0000, 0.0000, 0.1569,\n",
              "           0.2392, 0.1725, 0.2824, 0.1608, 0.1373, 0.0000, 0.0000, 0.0000,\n",
              "           0.0000, 0.0000, 0.0000, 0.0000, 0.0000, 0.0000, 0.0000, 0.0000,\n",
              "           0.0000, 0.0000, 0.0000, 0.0000],\n",
              "          [0.0000, 0.0000, 0.0000, 0.0000, 0.0000, 0.0000, 0.0000, 0.0000,\n",
              "           0.0000, 0.0000, 0.0000, 0.0000, 0.0000, 0.0000, 0.0000, 0.0000,\n",
              "           0.0000, 0.0000, 0.0000, 0.0000, 0.0000, 0.0000, 0.0000, 0.0000,\n",
              "           0.0000, 0.0000, 0.0000, 0.0000],\n",
              "          [0.0000, 0.0000, 0.0000, 0.0000, 0.0000, 0.0000, 0.0000, 0.0000,\n",
              "           0.0000, 0.0000, 0.0000, 0.0000, 0.0000, 0.0000, 0.0000, 0.0000,\n",
              "           0.0000, 0.0000, 0.0000, 0.0000, 0.0000, 0.0000, 0.0000, 0.0000,\n",
              "           0.0000, 0.0000, 0.0000, 0.0000]]]),\n",
              " 9)"
            ]
          },
          "metadata": {},
          "execution_count": 7
        }
      ]
    },
    {
      "cell_type": "code",
      "source": [
        "class_names = train_data.classes\n",
        "class_names"
      ],
      "metadata": {
        "colab": {
          "base_uri": "https://localhost:8080/"
        },
        "id": "ttVUiX1bSQdO",
        "outputId": "60129437-8fc7-4293-9d5a-a367fa5fa2e8"
      },
      "execution_count": 8,
      "outputs": [
        {
          "output_type": "execute_result",
          "data": {
            "text/plain": [
              "['T-shirt/top',\n",
              " 'Trouser',\n",
              " 'Pullover',\n",
              " 'Dress',\n",
              " 'Coat',\n",
              " 'Sandal',\n",
              " 'Shirt',\n",
              " 'Sneaker',\n",
              " 'Bag',\n",
              " 'Ankle boot']"
            ]
          },
          "metadata": {},
          "execution_count": 8
        }
      ]
    },
    {
      "cell_type": "code",
      "source": [
        "targets = train_data.targets\n",
        "targets"
      ],
      "metadata": {
        "colab": {
          "base_uri": "https://localhost:8080/"
        },
        "id": "8CcAJqK5Unn7",
        "outputId": "686d5922-0c9d-4ff7-dc10-edbbd7ff3563"
      },
      "execution_count": 9,
      "outputs": [
        {
          "output_type": "execute_result",
          "data": {
            "text/plain": [
              "tensor([9, 0, 0,  ..., 3, 0, 5])"
            ]
          },
          "metadata": {},
          "execution_count": 9
        }
      ]
    },
    {
      "cell_type": "code",
      "source": [
        "class_to_idx = train_data.class_to_idx\n",
        "class_to_idx"
      ],
      "metadata": {
        "colab": {
          "base_uri": "https://localhost:8080/"
        },
        "id": "v2vZqZFxT0Wm",
        "outputId": "df9ae4c5-630f-41a8-fcfa-651b0c068738"
      },
      "execution_count": 10,
      "outputs": [
        {
          "output_type": "execute_result",
          "data": {
            "text/plain": [
              "{'T-shirt/top': 0,\n",
              " 'Trouser': 1,\n",
              " 'Pullover': 2,\n",
              " 'Dress': 3,\n",
              " 'Coat': 4,\n",
              " 'Sandal': 5,\n",
              " 'Shirt': 6,\n",
              " 'Sneaker': 7,\n",
              " 'Bag': 8,\n",
              " 'Ankle boot': 9}"
            ]
          },
          "metadata": {},
          "execution_count": 10
        }
      ]
    },
    {
      "cell_type": "markdown",
      "source": [
        "## 1.1 Checking the Input / Output shape"
      ],
      "metadata": {
        "id": "OoqLTiDgXuDx"
      }
    },
    {
      "cell_type": "code",
      "source": [
        "#checking the shape of the image and print the label as well\n",
        "print(f\"Image shape is {image.shape} ->(color_chennel , height , width) and label value is {label}\")"
      ],
      "metadata": {
        "colab": {
          "base_uri": "https://localhost:8080/"
        },
        "id": "1JmnRLLOUVu5",
        "outputId": "e03a3ca3-d8ef-444c-de24-cd5a8be2e7df"
      },
      "execution_count": 11,
      "outputs": [
        {
          "output_type": "stream",
          "name": "stdout",
          "text": [
            "Image shape is torch.Size([1, 28, 28]) ->(color_chennel , height , width) and label value is 9\n"
          ]
        }
      ]
    },
    {
      "cell_type": "markdown",
      "source": [
        "  **Note:** from the shape of the image , we can see that the image had only one color chennel [1, 28 ,28] as grey scale image had only one color chennel"
      ],
      "metadata": {
        "id": "MN9H9AuWU5an"
      }
    },
    {
      "cell_type": "markdown",
      "source": [
        "## 1.2 Visiualization"
      ],
      "metadata": {
        "id": "ajO4ohoeWgym"
      }
    },
    {
      "cell_type": "code",
      "source": [
        "import matplotlib.pyplot as plt\n",
        "image , label = train_data[0]\n",
        "plt.imshow(image.squeeze()) # using the squeeze function to remove the single dimension i.e from [1,28,28] to [28,28] to avoid error\n",
        "plt.title(label)\n",
        "plt.show()"
      ],
      "metadata": {
        "colab": {
          "base_uri": "https://localhost:8080/",
          "height": 452
        },
        "id": "Ovx0oSOoXBbs",
        "outputId": "ad38112f-8200-40fb-fd15-a8bca67948d1"
      },
      "execution_count": 12,
      "outputs": [
        {
          "output_type": "display_data",
          "data": {
            "text/plain": [
              "<Figure size 640x480 with 1 Axes>"
            ],
            "image/png": "[encoded data removed]"
          },
          "metadata": {}
        }
      ]
    },
    {
      "cell_type": "code",
      "source": [
        "#showing the grey_scale image\n",
        "plt.imshow(image.squeeze(),cmap = \"grey\")\n",
        "plt.title(class_names[label])\n",
        "plt.axis(False)"
      ],
      "metadata": {
        "colab": {
          "base_uri": "https://localhost:8080/",
          "height": 445
        },
        "id": "GiGgfWVQYip9",
        "outputId": "e44f8e37-f6c9-4d3e-9907-9b34e0e613b0"
      },
      "execution_count": 13,
      "outputs": [
        {
          "output_type": "execute_result",
          "data": {
            "text/plain": [
              "(np.float64(-0.5), np.float64(27.5), np.float64(27.5), np.float64(-0.5))"
            ]
          },
          "metadata": {},
          "execution_count": 13
        },
        {
          "output_type": "display_data",
          "data": {
            "text/plain": [
              "<Figure size 640x480 with 1 Axes>"
            ],
            "image/png": "[encoded data removed]"
          },
          "metadata": {}
        }
      ]
    },
    {
      "cell_type": "code",
      "source": [
        "#Visiualizing some more images to get a better preview of the train_data\n",
        "torch.manual_seed(42) #setting random seed so that every time we get same samples from train data\n",
        "fig = plt.figure(figsize = (9,9)) #creating a template with width and height\n",
        "rows , cols = 4 , 4 #total rows and columns in the template\n",
        "\n",
        "for i in range(1 , rows * cols + 1 ):\n",
        "\n",
        "  random_index = torch.randint(0 , len(train_data) , size = [1]).item() #everytime ccreating a random number from 0 to 6000(length of training data)\n",
        "  img , label = train_data[random_index] #finding the image present at that random index\n",
        "  fig.add_subplot(rows , cols , i) #creating first subplot\n",
        "  plt.imshow(img.squeeze() , cmap= \"gray\") #showing the image at that plot\n",
        "  plt.title(class_names[label]) #setting the title\n",
        "  plt.axis(False)"
      ],
      "metadata": {
        "colab": {
          "base_uri": "https://localhost:8080/",
          "height": 752
        },
        "id": "9TKs-wP2Zrvb",
        "outputId": "fd2a75d2-5b7b-4db8-ba03-5b086491f341"
      },
      "execution_count": 14,
      "outputs": [
        {
          "output_type": "display_data",
          "data": {
            "text/plain": [
              "<Figure size 900x900 with 16 Axes>"
            ],
            "image/png": "[encoded data removed]"
          },
          "metadata": {}
        }
      ]
    },
    {
      "cell_type": "markdown",
      "source": [
        "**Important Question : Do you think these items of clothing (images) can be modelled with pure linear line ? or Do you think we'll need non-linearities?**"
      ],
      "metadata": {
        "id": "ly42m_9wiacl"
      }
    },
    {
      "cell_type": "markdown",
      "source": [
        "# 2. DataLoader  Overview and Understanding the Mini Batches"
      ],
      "metadata": {
        "id": "vWAwHAghiLXf"
      }
    },
    {
      "cell_type": "markdown",
      "source": [
        "1. Right now , we have a PyTorch datasets.\n",
        "2. DataLoader will transform it into python iterable\n",
        "3. We need to make batches to data to feed the model\n",
        "4. Why do we neeed  batches?\n",
        " - for using our memory efficiently\n",
        " - letting our model to learn more efficiently by goining the the data in batches rather than as a whole.\n",
        " - common batch size ia 32"
      ],
      "metadata": {
        "id": "2SGkB4Hodlyy"
      }
    },
    {
      "cell_type": "code",
      "source": [
        "from torch.utils.data import DataLoader\n",
        "BATCH_SIZE = 32\n",
        "\n",
        "train_dataloader = DataLoader(dataset= train_data,batch_size = BATCH_SIZE , shuffle = True)\n",
        "\n",
        "#shufling true so that our model won't remember the order in which images are present in the dataset rather it focus on underdtanding the patern in each image\n",
        "\n",
        "test_dataloader = DataLoader(dataset = test_data , batch_size = BATCH_SIZE , shuffle = False)"
      ],
      "metadata": {
        "id": "hpMuAKUqltCK"
      },
      "execution_count": 15,
      "outputs": []
    },
    {
      "cell_type": "code",
      "source": [
        "train_dataloader , test_dataloader"
      ],
      "metadata": {
        "colab": {
          "base_uri": "https://localhost:8080/"
        },
        "id": "AEXi8IrMmWKL",
        "outputId": "cf7ae658-e14c-47b6-b4fa-bc99103129dd"
      },
      "execution_count": 16,
      "outputs": [
        {
          "output_type": "execute_result",
          "data": {
            "text/plain": [
              "(<torch.utils.data.dataloader.DataLoader at 0x79a1ca58d590>,\n",
              " <torch.utils.data.dataloader.DataLoader at 0x79a1d80db5d0>)"
            ]
          },
          "metadata": {},
          "execution_count": 16
        }
      ]
    },
    {
      "cell_type": "code",
      "source": [
        "#let's check what we did\n",
        "print(f\"length of train_data : {len(train_dataloader)} batches of {BATCH_SIZE}....\")\n",
        "print(f\"length of test data : {len(test_dataloader)} batches of {BATCH_SIZE}....\")"
      ],
      "metadata": {
        "colab": {
          "base_uri": "https://localhost:8080/"
        },
        "id": "b6FLtFt-moaM",
        "outputId": "9b0c2c47-e836-488f-9202-7a04f3b0bc61"
      },
      "execution_count": 17,
      "outputs": [
        {
          "output_type": "stream",
          "name": "stdout",
          "text": [
            "length of train_data : 1875 batches of 32....\n",
            "length of test data : 313 batches of 32....\n"
          ]
        }
      ]
    },
    {
      "cell_type": "code",
      "source": [
        "#let's check what is inside the dataloader\n",
        "#next(iter(train_dataloader)) #getting a single batch from train_dataloader. It outputs a tuple of features (images) and their labels\n",
        "train_features_batch , train_labels_batch= next(iter(train_dataloader))\n",
        "\n",
        "len(train_features_batch) , len(train_labels_batch)\n",
        "train_features_batch.shape #[batchsize , color-chennel , height , width] for each batch"
      ],
      "metadata": {
        "id": "bCJrUSoLrTSU",
        "outputId": "3bbf33ec-1105-4cbd-8229-6e4e230639d8",
        "colab": {
          "base_uri": "https://localhost:8080/"
        }
      },
      "execution_count": 18,
      "outputs": [
        {
          "output_type": "execute_result",
          "data": {
            "text/plain": [
              "torch.Size([32, 1, 28, 28])"
            ]
          },
          "metadata": {},
          "execution_count": 18
        }
      ]
    },
    {
      "cell_type": "code",
      "source": [
        "#show a sample image from any batch\n",
        "torch.manual_seed(42)\n",
        "random_idx = torch.randint(0 , len(train_features_batch),size= [1]).item()\n",
        "img , label = train_features_batch[random_idx] , train_labels_batch[random_idx]\n",
        "plt.imshow(img.squeeze(),cmap = \"grey\")\n",
        "plt.title(class_names[label])\n",
        "plt.axis(False)\n",
        "print(f\"Image size : {img.shape}\")\n",
        "print(f\"Label size : {label.shape}\")"
      ],
      "metadata": {
        "id": "Es84zR-yrbcs",
        "outputId": "bca24b1c-3029-4758-c07e-2eaf49360ca4",
        "colab": {
          "base_uri": "https://localhost:8080/",
          "height": 463
        }
      },
      "execution_count": 19,
      "outputs": [
        {
          "output_type": "stream",
          "name": "stdout",
          "text": [
            "Image size : torch.Size([1, 28, 28])\n",
            "Label size : torch.Size([])\n"
          ]
        },
        {
          "output_type": "display_data",
          "data": {
            "text/plain": [
              "<Figure size 640x480 with 1 Axes>"
            ],
            "image/png": "[encoded data removed]"
          },
          "metadata": {}
        }
      ]
    },
    {
      "cell_type": "markdown",
      "source": [
        "#  3. Model 0 : Creating a baseline with two linear layers"
      ],
      "metadata": {
        "id": "bnhMqeb-yQ5v"
      }
    },
    {
      "cell_type": "markdown",
      "source": [
        "When we are experimenting with the different machine learning modelling technique , the it is the best approach to start with the simple baseline model and the improve upon with sunsequent models ."
      ],
      "metadata": {
        "id": "pZscY8mgvXzz"
      }
    },
    {
      "cell_type": "code",
      "source": [
        "# creating the faltten model or instantiate it\n",
        "flatten_model = nn.Flatten()\n",
        "\n",
        "#getting a sample or some image\n",
        "x = train_features_batch[0]\n",
        "output = flatten_model(x)\n",
        "\n",
        "print(f\"Shape before flattening :{x.shape}\")\n",
        "print(f\"Shape after flattening :{output.shape}\")\n"
      ],
      "metadata": {
        "colab": {
          "base_uri": "https://localhost:8080/"
        },
        "id": "T2rmZTjqLh84",
        "outputId": "214aee95-a008-4870-aa7a-d549bb564984"
      },
      "execution_count": 20,
      "outputs": [
        {
          "output_type": "stream",
          "name": "stdout",
          "text": [
            "Shape before flattening :torch.Size([1, 28, 28])\n",
            "Shape after flattening :torch.Size([1, 784])\n"
          ]
        }
      ]
    },
    {
      "cell_type": "code",
      "source": [
        "#Defining the model class\n",
        "from torch import nn\n",
        "\n",
        "class FashionMNISTmodelv0(nn.Module):\n",
        "\n",
        "  def __init__(self , input_shape:int ,\n",
        "               hidden_units : int ,\n",
        "               output_shape : int):\n",
        "    super().__init__()\n",
        "\n",
        "    self.layer_stack = nn.Sequential(\n",
        "        nn.Flatten(),\n",
        "        nn.Linear(in_features = input_shape , out_features = hidden_units),\n",
        "        nn.Linear(in_features = hidden_units , out_features = output_shape))\n",
        "\n",
        "  def forward(self,x):\n",
        "    return self.layer_stack(x)\n"
      ],
      "metadata": {
        "id": "4_8NAkZXL-S3"
      },
      "execution_count": 21,
      "outputs": []
    },
    {
      "cell_type": "code",
      "source": [
        "#instantitiate the model class\n",
        "torch.manual_seed(42)\n",
        "\n",
        "model_0 = FashionMNISTmodelv0(input_shape = 784 , #this is 28*28\n",
        "                              hidden_units =10,\n",
        "                              output_shape = len(class_names)\n",
        "                              ).to(\"cpu\")\n",
        "model_0"
      ],
      "metadata": {
        "colab": {
          "base_uri": "https://localhost:8080/"
        },
        "id": "VLJvo788OvdV",
        "outputId": "a6d0fcd5-d826-416f-c2f4-62f099858823"
      },
      "execution_count": 22,
      "outputs": [
        {
          "output_type": "execute_result",
          "data": {
            "text/plain": [
              "FashionMNISTmodelv0(\n",
              "  (layer_stack): Sequential(\n",
              "    (0): Flatten(start_dim=1, end_dim=-1)\n",
              "    (1): Linear(in_features=784, out_features=10, bias=True)\n",
              "    (2): Linear(in_features=10, out_features=10, bias=True)\n",
              "  )\n",
              ")"
            ]
          },
          "metadata": {},
          "execution_count": 22
        }
      ]
    },
    {
      "cell_type": "code",
      "source": [
        "#dummy\n",
        "dummy_x = torch.rand([1,1,28,28])\n",
        "model_0(dummy_x)"
      ],
      "metadata": {
        "colab": {
          "base_uri": "https://localhost:8080/"
        },
        "id": "agP1FriQPeP1",
        "outputId": "f3da0c96-9b71-46a1-b3d8-a37eb348c46f"
      },
      "execution_count": 23,
      "outputs": [
        {
          "output_type": "execute_result",
          "data": {
            "text/plain": [
              "tensor([[-0.0315,  0.3171,  0.0531, -0.2525,  0.5959,  0.2112,  0.3233,  0.2694,\n",
              "         -0.1004,  0.0157]], grad_fn=<AddmmBackward0>)"
            ]
          },
          "metadata": {},
          "execution_count": 23
        }
      ]
    },
    {
      "cell_type": "markdown",
      "source": [
        "## 3.1 Setup the loss , Optimizer and evaluation Metric:\n",
        "- Loss Function for multiclass classification : nn.CrossEntropyLoss()\n",
        "- Optimizer : torchh.optim.SGD()\n",
        "- Evaluation Metric : Accuracy()"
      ],
      "metadata": {
        "id": "pWRIo7Z1Qyv_"
      }
    },
    {
      "cell_type": "code",
      "source": [
        "#import helper functions\n",
        "import requests\n",
        "from pathlib import Path\n",
        "\n",
        "if Path(\"helper_function.py\").is_file():\n",
        "  print(\"helper_functions.py already exists , skipping downloading\")\n",
        "else:\n",
        "  print(\"downloading helper_functions.py\")\n",
        "  request = requests.get(\"https://raw.githubusercontent.com/mrdbourke/pytorch-deep-learning/main/helper_functions.py\")\n",
        "\n",
        "  with open(\"helper_function.py\" ,\"wb\") as f:\n",
        "    f.write(request.content)\n"
      ],
      "metadata": {
        "colab": {
          "base_uri": "https://localhost:8080/"
        },
        "id": "Qy4CdDY-SqAg",
        "outputId": "0c3b76ee-ae0a-41c2-c454-323a9dd71814"
      },
      "execution_count": 24,
      "outputs": [
        {
          "output_type": "stream",
          "name": "stdout",
          "text": [
            "downloading helper_functions.py\n"
          ]
        }
      ]
    },
    {
      "cell_type": "code",
      "source": [
        "#Import accuracy Metic\n",
        "from helper_function import accuracy_fn"
      ],
      "metadata": {
        "id": "jvIiiBtCVePH"
      },
      "execution_count": 25,
      "outputs": []
    },
    {
      "cell_type": "code",
      "source": [
        "#Set up the loss function\n",
        "loss_fn = nn.CrossEntropyLoss()\n",
        "\n",
        "#set up the optimizer\n",
        "optimizer = torch.optim.SGD(params = model_0.parameters(),\n",
        "                            lr = 0.1)"
      ],
      "metadata": {
        "id": "6Hv2M3iXVvrE"
      },
      "execution_count": 26,
      "outputs": []
    },
    {
      "cell_type": "markdown",
      "source": [
        "**Note: Before creating a training loop , let us first create a function to time our experiments**\n",
        "\n",
        "A model's performance is measured by two ways:\n",
        "1. By some evaluation metric\n",
        "2. How fast it runs"
      ],
      "metadata": {
        "id": "kMz0ErgFWHv3"
      }
    },
    {
      "cell_type": "markdown",
      "source": [
        "## 3.2 Creating a function to time our experiments  "
      ],
      "metadata": {
        "id": "d97ZoNtzMMsz"
      }
    },
    {
      "cell_type": "code",
      "source": [
        "#defining a train time function to get to know how much time is being taken by our model to get trained\n",
        "\n",
        "from timeit import default_timer as timer\n",
        "def print_train_time(start :float ,\n",
        "                     end :float ,\n",
        "                     device : torch.device = None):\n",
        "  \"\"\" prints the difference between start and the end time\"\"\"\n",
        "  total_time = end - start\n",
        "  print(f\"Train Time on {device} : {total_time:.3f} seconds\")\n",
        "  return total_time"
      ],
      "metadata": {
        "id": "AbeWO1IaWI6d"
      },
      "execution_count": 27,
      "outputs": []
    },
    {
      "cell_type": "code",
      "source": [
        "start_time = timer()\n",
        "# some piece of code\n",
        "end_time = timer()\n",
        "\n",
        "\n",
        "#calling the function with the arguments\n",
        "print_train_time(start_time , end_time , \"cpu\")"
      ],
      "metadata": {
        "colab": {
          "base_uri": "https://localhost:8080/"
        },
        "id": "1zM_i_DDaXEK",
        "outputId": "69a05609-82d4-460d-f265-e37f96eeaf8f"
      },
      "execution_count": 28,
      "outputs": [
        {
          "output_type": "stream",
          "name": "stdout",
          "text": [
            "Train Time on cpu : 0.000 seconds\n"
          ]
        },
        {
          "output_type": "execute_result",
          "data": {
            "text/plain": [
              "5.919899999184963e-05"
            ]
          },
          "metadata": {},
          "execution_count": 28
        }
      ]
    },
    {
      "cell_type": "markdown",
      "source": [
        "## 3.3 Creating Training loop and training the model on batches"
      ],
      "metadata": {
        "id": "zQ_Q3mDram2K"
      }
    },
    {
      "cell_type": "markdown",
      "source": [
        "1. Loop thorugh the epochs\n",
        "2. Loop thorugh all the training batches\n",
        "3. Perform training steps\n",
        "4. Calculate training loss per batch\n",
        "5. Loop through the testing batches\n",
        "6. Perform the testing steps\n",
        "7. Calculate the test loss per batch\n",
        "8. Print out what is happening\n",
        "9. Time it all"
      ],
      "metadata": {
        "id": "N88_bOABbFbD"
      }
    },
    {
      "cell_type": "code",
      "source": [
        "#from  tqdm.auto import tqdm # for creating progress bar to track the training\n",
        "\n",
        "#set random seed\n",
        "torch.manual_seed(42)\n",
        "#set the trauning start time\n",
        "train_time_start_on_cpu = timer()\n",
        "\n",
        "#set the epochs(keeping it small for faster training)\n",
        "epochs = 3\n",
        "\n",
        "#create atraining and test loop\n",
        "#for epoch in tqdm(range(epochs)) #run this way if you want to show progress bar for each epoch . i am removing it because it is not supported in pushing to github\n",
        "\n",
        "for epoch in range(epochs):\n",
        "  print(f\"Epoch: {epoch}\\n-------\")\n",
        "\n",
        "  #training loop\n",
        "  train_loss = 0\n",
        "\n",
        "  #Add a loop to loop to training batches\n",
        "  for batch , (X ,y) in enumerate(train_dataloader):\n",
        "    model_0.train()\n",
        "    #forward pass\n",
        "    y_pred = model_0(X)\n",
        "\n",
        "    #calculate the loss per batch\n",
        "    loss = loss_fn(y_pred , y)\n",
        "    train_loss +=loss\n",
        "\n",
        "    #set the optimizer\n",
        "    optimizer.zero_grad()\n",
        "\n",
        "    #back propagation\n",
        "    loss.backward()\n",
        "\n",
        "    #Optimizer\n",
        "    optimizer.step()\n",
        "\n",
        "    #Print out what is happening\n",
        "    if batch % 400 == 0:\n",
        "      print(f\"Looked at {batch * len(X)} / {len(train_dataloader.dataset)} samples.\")\n",
        "\n",
        "  #Divide total train loss by length of the train dataloader\n",
        "  train_loss /= len(train_dataloader)\n",
        "\n",
        "  #Testing\n",
        "  test_loss , test_acc = 0 , 0\n",
        "  model_0.eval()\n",
        "  with torch.inference_mode():\n",
        "    for X_test , y_test in test_dataloader :\n",
        "     #forward pass\n",
        "      test_pred = model_0(X_test)\n",
        "\n",
        "      #calculate loss\n",
        "      test_loss += loss_fn(test_pred , y_test)\n",
        "\n",
        "      #calculate accuracy\n",
        "      test_acc += accuracy_fn(y_test , test_pred.argmax(dim=1))\n",
        "\n",
        "    #calculate the test loss per epoch\n",
        "    test_loss /= len(test_dataloader)\n",
        "\n",
        "    #calculate the test accuracy per epoch\n",
        "    test_acc /= len(test_dataloader)\n",
        "\n",
        "  #print out what is happening\n",
        "  print(f\"\\n Train loss :{train_loss:.4f} | Test loss :{test_loss:.4f} | Test Accuracy :{test_acc:.4f}\")\n",
        "\n",
        "#Calculate the training time\n",
        "\n",
        "train_time_end_on_cpu = timer()\n",
        "total_train_time_model_0 = print_train_time(train_time_start_on_cpu,\n",
        "                                            train_time_end_on_cpu,\n",
        "                                            str(next(model_0.parameters()).device))"
      ],
      "metadata": {
        "colab": {
          "base_uri": "https://localhost:8080/"
        },
        "id": "PHaaX5w5b1eo",
        "outputId": "954550a5-d4a2-4b4c-98e1-fd1f57b2ca70"
      },
      "execution_count": 29,
      "outputs": [
        {
          "output_type": "stream",
          "name": "stdout",
          "text": [
            "Epoch: 0\n",
            "-------\n",
            "Looked at 0 / 60000 samples.\n",
            "Looked at 12800 / 60000 samples.\n",
            "Looked at 25600 / 60000 samples.\n",
            "Looked at 38400 / 60000 samples.\n",
            "Looked at 51200 / 60000 samples.\n",
            "\n",
            " Train loss :0.5904 | Test loss :0.5095 | Test Accuracy :82.0387\n",
            "Epoch: 1\n",
            "-------\n",
            "Looked at 0 / 60000 samples.\n",
            "Looked at 12800 / 60000 samples.\n",
            "Looked at 25600 / 60000 samples.\n",
            "Looked at 38400 / 60000 samples.\n",
            "Looked at 51200 / 60000 samples.\n",
            "\n",
            " Train loss :0.4763 | Test loss :0.4799 | Test Accuracy :83.1969\n",
            "Epoch: 2\n",
            "-------\n",
            "Looked at 0 / 60000 samples.\n",
            "Looked at 12800 / 60000 samples.\n",
            "Looked at 25600 / 60000 samples.\n",
            "Looked at 38400 / 60000 samples.\n",
            "Looked at 51200 / 60000 samples.\n",
            "\n",
            " Train loss :0.4550 | Test loss :0.4766 | Test Accuracy :83.4265\n",
            "Train Time on cpu : 33.995 seconds\n"
          ]
        }
      ]
    },
    {
      "cell_type": "markdown",
      "source": [
        "# 4 . Prediction and Evaluation"
      ],
      "metadata": {
        "id": "MWz-k09ryCKy"
      }
    },
    {
      "cell_type": "code",
      "source": [
        "torch.manual_seed(42)\n",
        "def eval_model(\n",
        "    model: torch.nn.Module,\n",
        "    data_loader : torch.utils.data.DataLoader,\n",
        "    loss_fn : torch.nn.Module,\n",
        "    accuracy_fn):\n",
        "\n",
        "  \"\"\" Returns a dictionary containing the results of the model predicting on data_loader \"\"\"\n",
        "\n",
        "  loss , acc = 0,0\n",
        "  model.eval()\n",
        "\n",
        "  with torch.inference_mode():\n",
        "    #for X , y in tqdm(data_loader): #run this way if you want to show progress bar for each epoch . i am removing it because it is not supported in pushing to github\n",
        "    for X , y in data_loader:\n",
        "      #Make Prediction\n",
        "      y_pred = model(X)\n",
        "\n",
        "      # Accumulate loss and the accuracy\n",
        "      loss += loss_fn(y_pred , y)\n",
        "\n",
        "      acc += accuracy_fn(y , y_pred.argmax(dim=1))\n",
        "\n",
        "    #Scale loss and acc to find the acc/loss per batch\n",
        "    loss /= len(data_loader)\n",
        "    acc /= len(data_loader)\n",
        "\n",
        "  return {\"model_name\" : model.__class__.__name__ ,\n",
        "          \"model_loss\" : loss.item() ,\n",
        "          \"model_accuracy\" : acc}\n",
        "\n",
        "#calculate the results for model 0\n",
        "model_0_results = eval_model(model_0 ,\n",
        "                             test_dataloader,\n",
        "                             loss_fn,\n",
        "                             accuracy_fn)\n",
        "\n",
        "model_0_results\n",
        "\n"
      ],
      "metadata": {
        "colab": {
          "base_uri": "https://localhost:8080/"
        },
        "id": "t3N9QAMKvQZm",
        "outputId": "2fdee38e-9aed-4d57-9cbe-5452bc45e5f7"
      },
      "execution_count": 69,
      "outputs": [
        {
          "output_type": "execute_result",
          "data": {
            "text/plain": [
              "{'model_name': 'FashionMNISTmodelv0',\n",
              " 'model_loss': 0.47663894295692444,\n",
              " 'model_accuracy': 83.42651757188499}"
            ]
          },
          "metadata": {},
          "execution_count": 69
        }
      ]
    },
    {
      "cell_type": "markdown",
      "source": [
        "# 5. Set up device agnoistic code"
      ],
      "metadata": {
        "id": "LHo5_0L91kfx"
      }
    },
    {
      "cell_type": "code",
      "source": [
        "device = \"cuda\" if torch.cuda.is_available() else \"cpu\"\n",
        "device"
      ],
      "metadata": {
        "colab": {
          "base_uri": "https://localhost:8080/",
          "height": 35
        },
        "id": "N1Zx7GfL1nUq",
        "outputId": "2c6993c2-36c7-4c92-c798-73a2b1890a8f"
      },
      "execution_count": 31,
      "outputs": [
        {
          "output_type": "execute_result",
          "data": {
            "text/plain": [
              "'cpu'"
            ],
            "application/vnd.google.colaboratory.intrinsic+json": {
              "type": "string"
            }
          },
          "metadata": {},
          "execution_count": 31
        }
      ]
    },
    {
      "cell_type": "markdown",
      "source": [
        "# 6. Improve through Experimentation\n",
        "- ## Model 1 : Creating a model with non_linear functions"
      ],
      "metadata": {
        "id": "PX37pw4L2Bm1"
      }
    },
    {
      "cell_type": "code",
      "source": [
        "#Creating the model_1 eith non_linear and linear layers\n",
        "class FashionMNISTmodelv1(torch.nn.Module):\n",
        "  def __init__(self , input_shape:int,\n",
        "               hidden_units :int,\n",
        "               output_shape: int):\n",
        "    super().__init__()\n",
        "\n",
        "    self.stack_layer = nn.Sequential(\n",
        "        nn.Flatten(),\n",
        "        nn.Linear(in_features = input_shape ,\n",
        "                  out_features = hidden_units),\n",
        "        nn.ReLU(),\n",
        "        nn.Linear(in_features = hidden_units ,\n",
        "                  out_features = output_shape),\n",
        "        nn.ReLU()\n",
        "    )\n",
        "\n",
        "  #creating a forward function\n",
        "  def forward(self , x:torch.Tensor):\n",
        "    return self.stack_layer(x)\n"
      ],
      "metadata": {
        "id": "8g6I0y-y2Ocn"
      },
      "execution_count": 70,
      "outputs": []
    },
    {
      "cell_type": "code",
      "source": [
        "#instantitiate the class FashionMNISTmodelv1\n",
        "model_1 = FashionMNISTmodelv1(784 , 10 , len(class_names)).to(device)\n",
        "\n",
        "next(model_1.parameters()).device"
      ],
      "metadata": {
        "colab": {
          "base_uri": "https://localhost:8080/"
        },
        "id": "ulCAAEdK5Z22",
        "outputId": "9338dc16-3c59-49dd-80b8-795f4da8a545"
      },
      "execution_count": 71,
      "outputs": [
        {
          "output_type": "execute_result",
          "data": {
            "text/plain": [
              "device(type='cpu')"
            ]
          },
          "metadata": {},
          "execution_count": 71
        }
      ]
    },
    {
      "cell_type": "markdown",
      "source": [
        "## 6.1 Set up loss , optimizer and evaluation metrics for this\n"
      ],
      "metadata": {
        "id": "YhdH9Czs6AxX"
      }
    },
    {
      "cell_type": "code",
      "source": [
        "#accuracy function for evaluation\n",
        "from helper_function import accuracy_fn\n",
        "#setup the loss function\n",
        "loss_fn = nn.CrossEntropyLoss()\n",
        "#set up the optimzer\n",
        "optimizer = torch.optim.SGD(params = model_1.parameters(),\n",
        "                            lr = 0.1)"
      ],
      "metadata": {
        "id": "lpCf2VtF6HtZ"
      },
      "execution_count": 72,
      "outputs": []
    },
    {
      "cell_type": "markdown",
      "source": [
        "## 6.2  Creating a Training and testing Loop\n",
        "  - **Functionalizing the training and testing loop**\n",
        "      - for training : train_step()\n",
        "      - for testing : test_step()\n"
      ],
      "metadata": {
        "id": "_OS9jfF76ltG"
      }
    },
    {
      "cell_type": "code",
      "source": [
        "def train_step(model : torch.nn.Module ,\n",
        "               data_loader : torch.utils.data.DataLoader,\n",
        "               loss_fn : torch.nn.Module,\n",
        "               optimizer : torch.optim.Optimizer,\n",
        "               accuracy_fn,\n",
        "               device : torch.device = device ):\n",
        "\n",
        "  \"\"\"Performs a training with model trying to learn on data loader\"\"\"\n",
        "  train_loss , train_acc = 0 , 0\n",
        "\n",
        "  #  Put the model into training mode\n",
        "  model.train()\n",
        "\n",
        "  #Add a loop to loop through the training batches\n",
        "  for batch , (X ,y) in enumerate(data_loader):\n",
        "    #put data into target device\n",
        "    X , y = X.to(device) , y.to(device)\n",
        "\n",
        "    #forward pass\n",
        "    y_pred = model(X)\n",
        "\n",
        "    #calculate the loss and accuracy per batch\n",
        "    loss = loss_fn(y_pred , y)\n",
        "    train_loss += loss\n",
        "    train_acc += accuracy_fn(y , y_pred.argmax(dim=1)) # go from logits -> prediction labels\n",
        "\n",
        "    #set the optimizer\n",
        "    optimizer.zero_grad()\n",
        "\n",
        "    #back propagation\n",
        "    loss.backward()\n",
        "\n",
        "    #Optimizer\n",
        "    optimizer.step()\n",
        "\n",
        "  #Divide total train loss and acc by length of the train dataloader\n",
        "  train_loss /= len(data_loader)\n",
        "  train_acc /= len(data_loader)\n",
        "\n",
        "  #Print out what is happening\n",
        "\n",
        "  print(f\"Train Loss: {train_loss:.5f} | Train accuracy :{train_acc:.5f}%\")\n"
      ],
      "metadata": {
        "id": "uFYwUFch7XuB"
      },
      "execution_count": 73,
      "outputs": []
    },
    {
      "cell_type": "code",
      "source": [
        "def test_step(model:torch.nn.Module ,\n",
        "              data_loader : torch.utils.data.DataLoader,\n",
        "              loss_fn : torch.nn.Module,\n",
        "              accuracy_fn,\n",
        "              device : torch.device= device):\n",
        "\n",
        "  \"\"\"Performs a testing on the model to predict on the testing data loader\"\"\"\n",
        "  #Testing\n",
        "  test_loss , test_acc = 0 , 0\n",
        "  model.eval()\n",
        "\n",
        "  with torch.inference_mode():\n",
        "    for X , y in data_loader :\n",
        "      #send X and y to target device\n",
        "      X, y = X.to(device) , y.to(device)\n",
        "\n",
        "     #forward pass\n",
        "      test_pred = model(X)\n",
        "\n",
        "      #calculate loss\n",
        "      test_loss += loss_fn(test_pred , y)\n",
        "\n",
        "      #calculate accuracy\n",
        "      test_acc += accuracy_fn(y , test_pred.argmax(dim=1))\n",
        "\n",
        "    #Adjust metrics and print out\n",
        "    #calculate the test loss per epoch\n",
        "    test_loss /= len(data_loader)\n",
        "\n",
        "    #calculate the test accuracy per epoch\n",
        "    test_acc /= len(data_loader)\n",
        "\n",
        "    #print out what is happening\n",
        "    print(f\"\\n Test loss :{test_loss:.4f} | Test acc :{test_acc:.2f}% \\n\")\n",
        "\n"
      ],
      "metadata": {
        "id": "-VsBgnZkB0h_"
      },
      "execution_count": 74,
      "outputs": []
    },
    {
      "cell_type": "code",
      "source": [
        "#combining the two functions\n",
        "torch.manual_seed(42)\n",
        "# measure time\n",
        "\n",
        "from timeit import default_timer as Timer\n",
        "train_time_start_on_gpu = timer()\n",
        "\n",
        "#for epoch in tqdm(range(epochs)): ##run this way if you want to show progress bar for each epoch . i am removing it because it is not supported in pushing to github\n",
        "\n",
        "for epoch in range(epochs):\n",
        "  print(f\"Epoch :{epoch}\\n-----------\")\n",
        "  train_step(model_1,\n",
        "             train_dataloader,\n",
        "             loss_fn,\n",
        "             optimizer,\n",
        "             accuracy_fn,\n",
        "             device)\n",
        "\n",
        "  test_step(model_1,\n",
        "             test_dataloader,\n",
        "             loss_fn,\n",
        "             accuracy_fn,\n",
        "             device)\n",
        "\n",
        "train_time_end_on_gpu = timer()\n",
        "total_train_time_model_1 = print_train_time(train_time_start_on_gpu,\n",
        "                                            train_time_end_on_gpu,\n",
        "                                            device)"
      ],
      "metadata": {
        "colab": {
          "base_uri": "https://localhost:8080/"
        },
        "id": "b1Lvs6PIQDXT",
        "outputId": "5b697bf8-8356-4dea-9e6c-59f7e927bf8c"
      },
      "execution_count": 75,
      "outputs": [
        {
          "output_type": "stream",
          "name": "stdout",
          "text": [
            "Epoch :0\n",
            "-----------\n",
            "Train Loss: 0.98248 | Train accuracy :65.06000%\n",
            "\n",
            " Test loss :0.7606 | Test acc :72.80% \n",
            "\n",
            "Epoch :1\n",
            "-----------\n",
            "Train Loss: 0.70366 | Train accuracy :74.48000%\n",
            "\n",
            " Test loss :0.7173 | Test acc :73.67% \n",
            "\n",
            "Epoch :2\n",
            "-----------\n",
            "Train Loss: 0.67375 | Train accuracy :75.30500%\n",
            "\n",
            " Test loss :0.6917 | Test acc :74.81% \n",
            "\n",
            "Train Time on cpu : 34.945 seconds\n"
          ]
        }
      ]
    },
    {
      "cell_type": "markdown",
      "source": [
        "**Note : Sometimes , depending on your data/hardware you might find that your model trains faster on CPU than GPU .\n",
        "Why this?**\n",
        " - This is because that the overhead for copying the data / model to and from the GPU outweights the compute benefits offered by the GPU.\n",
        " - The hardware you are using has a better CPU in terms of copute capability than the GPU."
      ],
      "metadata": {
        "id": "Su99svxGSRaI"
      }
    },
    {
      "cell_type": "code",
      "source": [
        "torch.manual_seed(42)\n",
        "def eval_model(\n",
        "    model: torch.nn.Module,\n",
        "    data_loader : torch.utils.data.DataLoader,\n",
        "    loss_fn : torch.nn.Module,\n",
        "    accuracy_fn,\n",
        "    device = device):\n",
        "\n",
        "  \"\"\" Returns a dictionary containing the results of the model predicting on data_loader \"\"\"\n",
        "\n",
        "  loss , acc = 0,0\n",
        "  model.eval()\n",
        "\n",
        "  with torch.inference_mode():\n",
        "\n",
        "    #for X , y in tqdm(data_loader):#run this way if you want to show progress bar for each epoch . i am removing it because it is not supported in pushing to github\n",
        "\n",
        "    for X , y in data_loader:\n",
        "      #Make device agnoistic code\n",
        "      X, y = X.to(device) , y.to(device)\n",
        "      #Make Prediction\n",
        "      y_pred = model(X)\n",
        "\n",
        "      # Accumulate loss and the accuracy\n",
        "      loss += loss_fn(y_pred , y)\n",
        "\n",
        "      acc += accuracy_fn(y , y_pred.argmax(dim=1))\n",
        "\n",
        "    #Scale loss and acc to find the acc/loss per batch\n",
        "    loss /= len(data_loader)\n",
        "    acc /= len(data_loader)\n",
        "\n",
        "  return {\"model_name\" : model.__class__.__name__ ,\n",
        "          \"model_loss\" : loss.item() ,\n",
        "          \"model_accuracy\" : acc}"
      ],
      "metadata": {
        "id": "bw6kgc0fRwVV"
      },
      "execution_count": 79,
      "outputs": []
    },
    {
      "cell_type": "code",
      "source": [
        "model_1_results = eval_model(model_1,test_dataloader,loss_fn,accuracy_fn , device)\n",
        "model_1_results"
      ],
      "metadata": {
        "colab": {
          "base_uri": "https://localhost:8080/"
        },
        "id": "4KYmdDDbcApv",
        "outputId": "7f76fd34-f223-44ad-e349-36186f4a748f"
      },
      "execution_count": 77,
      "outputs": [
        {
          "output_type": "execute_result",
          "data": {
            "text/plain": [
              "{'model_name': 'FashionMNISTmodelv1',\n",
              " 'model_loss': 0.6917040348052979,\n",
              " 'model_accuracy': 74.810303514377}"
            ]
          },
          "metadata": {},
          "execution_count": 77
        }
      ]
    },
    {
      "cell_type": "code",
      "source": [
        "model_0_results"
      ],
      "metadata": {
        "colab": {
          "base_uri": "https://localhost:8080/"
        },
        "id": "h5MTaPYocbJE",
        "outputId": "236a063a-364b-470a-d4a1-36ef5ccfdb53"
      },
      "execution_count": 80,
      "outputs": [
        {
          "output_type": "execute_result",
          "data": {
            "text/plain": [
              "{'model_name': 'FashionMNISTmodelv0',\n",
              " 'model_loss': 0.47663894295692444,\n",
              " 'model_accuracy': 83.42651757188499}"
            ]
          },
          "metadata": {},
          "execution_count": 80
        }
      ]
    },
    {
      "cell_type": "markdown",
      "source": [
        "# 7. Modelv2 - Convolutional Neural Network(high level overview)"
      ],
      "metadata": {
        "id": "l6RsAe0qSywh"
      }
    },
    {
      "cell_type": "markdown",
      "source": [
        "- CNNs are also known as ConvNets .\n",
        "- They are known for their capabilities to find patterns in visiual data."
      ],
      "metadata": {
        "id": "P_vipxELSy58"
      }
    },
    {
      "cell_type": "code",
      "source": [
        "#create a convolutional neural network.\n",
        "class FashionMNISImodelv2(nn.Module):\n",
        "\n",
        "  \"\"\" Model architecture that replicates the TinyVGG model from CNn explainer website \"\"\"\n",
        "\n",
        "  def __init__(self, input_shape : int ,\n",
        "               hidden_units : int ,\n",
        "               output_shape: int):\n",
        "    super().__init__()\n",
        "\n",
        "    #covolutional block 1\n",
        "    self.conv_block_1 = nn.Sequential(\n",
        "        #create a convolutional layer 1\n",
        "        nn.Conv2d(in_channels = input_shape ,\n",
        "                  out_channels = hidden_units ,\n",
        "                  kernel_size =3,\n",
        "                  stride =1,\n",
        "                  padding =1),\n",
        "        #nn.ReLU() layer\n",
        "        nn.ReLU(),\n",
        "        #convolutional layer 2\n",
        "        nn.Conv2d(\n",
        "            in_channels = hidden_units ,\n",
        "            out_channels = hidden_units ,\n",
        "            kernel_size = 3,\n",
        "            stride = 1,\n",
        "            padding = 1),\n",
        "        #nn.ReLU layer\n",
        "        nn.ReLU(),\n",
        "        #maxPool layer\n",
        "        nn.MaxPool2d(kernel_size = 2)\n",
        "    )\n",
        "\n",
        "    #convolutional block 2\n",
        "    self.conv_block_2 = nn.Sequential(\n",
        "        nn.Conv2d(in_channels = hidden_units ,\n",
        "                  out_channels = hidden_units,\n",
        "                  kernel_size= 3,\n",
        "                  stride = 1,\n",
        "                  padding = 1),\n",
        "        nn.ReLU(),\n",
        "        nn.Conv2d(in_channels = hidden_units ,\n",
        "                 out_channels = hidden_units,\n",
        "                 kernel_size = 3 ,\n",
        "                 stride = 1,\n",
        "                 padding = 1),\n",
        "        nn.ReLU(),\n",
        "        nn.MaxPool2d(kernel_size = 2)\n",
        "    )\n",
        "\n",
        "    #classifier block\n",
        "\n",
        "    self.classifier = nn.Sequential(\n",
        "        nn.Flatten(),\n",
        "        nn.Linear(in_features = hidden_units*7*7,  #there is trick\n",
        "                  out_features = output_shape )\n",
        "    )\n",
        "\n",
        "  #forward function\n",
        "  def forward(self , x):\n",
        "    x=self.conv_block_1(x)\n",
        "    #print(f\"output shape of conv block 1: {x.shape}\")\n",
        "    x= self.conv_block_2(x)\n",
        "    #print(f\"output shape of conv block 2: {x.shape}\")\n",
        "    x= self.classifier(x)\n",
        "    #print(f\"output shape of classifier: {x.shape}\")\n",
        "    return x\n",
        "\n"
      ],
      "metadata": {
        "id": "v37joYzuTeMH"
      },
      "execution_count": 81,
      "outputs": []
    },
    {
      "cell_type": "code",
      "source": [
        "torch.manual_seed(42)\n",
        "model_2 = FashionMNISImodelv2(input_shape = 1 ,\n",
        "                              hidden_units = 10,\n",
        "                              output_shape = len(class_names)).to(device)\n",
        "\n"
      ],
      "metadata": {
        "id": "KZxGfeJCaSpV"
      },
      "execution_count": 82,
      "outputs": []
    },
    {
      "cell_type": "code",
      "source": [
        "plt.imshow(image.squeeze() , cmap = \"gray\")"
      ],
      "metadata": {
        "id": "l4wk6PJ1xZu0",
        "outputId": "ed05e3b6-86d8-4c74-c14b-7bdf474c9a9d",
        "colab": {
          "base_uri": "https://localhost:8080/",
          "height": 447
        }
      },
      "execution_count": 43,
      "outputs": [
        {
          "output_type": "execute_result",
          "data": {
            "text/plain": [
              "<matplotlib.image.AxesImage at 0x79a1c9db13d0>"
            ]
          },
          "metadata": {},
          "execution_count": 43
        },
        {
          "output_type": "display_data",
          "data": {
            "text/plain": [
              "<Figure size 640x480 with 1 Axes>"
            ],
            "image/png": "[encoded data removed]"
          },
          "metadata": {}
        }
      ]
    },
    {
      "cell_type": "code",
      "source": [
        "rand_image_tensor = torch.randn(size = (1, 28 ,28))\n",
        "rand_image_tensor.shape"
      ],
      "metadata": {
        "id": "A3e9_gNBx1pJ",
        "outputId": "74dd37f6-5a23-483c-d67a-59e79768f18c",
        "colab": {
          "base_uri": "https://localhost:8080/"
        }
      },
      "execution_count": 44,
      "outputs": [
        {
          "output_type": "execute_result",
          "data": {
            "text/plain": [
              "torch.Size([1, 28, 28])"
            ]
          },
          "metadata": {},
          "execution_count": 44
        }
      ]
    },
    {
      "cell_type": "code",
      "source": [
        "model_2(rand_image_tensor.unsqueeze(0).to(device))"
      ],
      "metadata": {
        "id": "dGaTJYldybOW",
        "outputId": "c88ab7db-dc4d-4122-81ee-70f48f129d7f",
        "colab": {
          "base_uri": "https://localhost:8080/"
        }
      },
      "execution_count": 45,
      "outputs": [
        {
          "output_type": "execute_result",
          "data": {
            "text/plain": [
              "tensor([[ 0.0366, -0.0940,  0.0686, -0.0485,  0.0068,  0.0290,  0.0132,  0.0084,\n",
              "         -0.0030, -0.0185]], grad_fn=<AddmmBackward0>)"
            ]
          },
          "metadata": {},
          "execution_count": 45
        }
      ]
    },
    {
      "cell_type": "markdown",
      "source": [
        "##7.1 Stepping Through `nn.Conv2d()`\n",
        "\n",
        "\n"
      ],
      "metadata": {
        "id": "vAXmrBsjbjMZ"
      }
    },
    {
      "cell_type": "code",
      "source": [
        "#create a batch of images\n",
        "torch.manual_seed(42)\n",
        "\n",
        "images = torch.randn(size=(32,3,64,64))\n",
        "test_image = images[0]\n",
        "\n",
        "print(f\"Image batch shape : {images.shape}\")\n",
        "print(f\"Single Image shape : {test_image.shape}\")\n",
        "print(f\"Test Image look like : \\n {test_image}\")"
      ],
      "metadata": {
        "colab": {
          "base_uri": "https://localhost:8080/"
        },
        "id": "tvFUkd5dgCjR",
        "outputId": "320a947d-4637-4ce9-87be-eaa99c3c2ba7"
      },
      "execution_count": 83,
      "outputs": [
        {
          "output_type": "stream",
          "name": "stdout",
          "text": [
            "Image batch shape : torch.Size([32, 3, 64, 64])\n",
            "Single Image shape : torch.Size([3, 64, 64])\n",
            "Test Image look like : \n",
            " tensor([[[ 1.9269,  1.4873,  0.9007,  ...,  1.8446, -1.1845,  1.3835],\n",
            "         [ 1.4451,  0.8564,  2.2181,  ...,  0.3399,  0.7200,  0.4114],\n",
            "         [ 1.9312,  1.0119, -1.4364,  ..., -0.5558,  0.7043,  0.7099],\n",
            "         ...,\n",
            "         [-0.5610, -0.4830,  0.4770,  ..., -0.2713, -0.9537, -0.6737],\n",
            "         [ 0.3076, -0.1277,  0.0366,  ..., -2.0060,  0.2824, -0.8111],\n",
            "         [-1.5486,  0.0485, -0.7712,  ..., -0.1403,  0.9416, -0.0118]],\n",
            "\n",
            "        [[-0.5197,  1.8524,  1.8365,  ...,  0.8935, -1.5114, -0.8515],\n",
            "         [ 2.0818,  1.0677, -1.4277,  ...,  1.6612, -2.6223, -0.4319],\n",
            "         [-0.1010, -0.4388, -1.9775,  ...,  0.2106,  0.2536, -0.7318],\n",
            "         ...,\n",
            "         [ 0.2779,  0.7342, -0.3736,  ..., -0.4601,  0.1815,  0.1850],\n",
            "         [ 0.7205, -0.2833,  0.0937,  ..., -0.1002, -2.3609,  2.2465],\n",
            "         [-1.3242, -0.1973,  0.2920,  ...,  0.5409,  0.6940,  1.8563]],\n",
            "\n",
            "        [[-0.7978,  1.0261,  1.1465,  ...,  1.2134,  0.9354, -0.0780],\n",
            "         [-1.4647, -1.9571,  0.1017,  ..., -1.9986, -0.7409,  0.7011],\n",
            "         [-1.3938,  0.8466, -1.7191,  ..., -1.1867,  0.1320,  0.3407],\n",
            "         ...,\n",
            "         [ 0.8206, -0.3745,  1.2499,  ..., -0.0676,  0.0385,  0.6335],\n",
            "         [-0.5589, -0.3393,  0.2347,  ...,  2.1181,  2.4569,  1.3083],\n",
            "         [-0.4092,  1.5199,  0.2401,  ..., -0.2558,  0.7870,  0.9924]]])\n"
          ]
        }
      ]
    },
    {
      "cell_type": "code",
      "source": [
        "\n",
        "#create a single convolutional layer (Conv2d) (3, 64,64) in_chennes will be color chennels\n",
        "conv_layer = nn.Conv2d(in_channels = 3 ,\n",
        "                       out_channels = 10 ,\n",
        "                       kernel_size = 3,\n",
        "                       stride = 1,\n",
        "                       padding = 1\n",
        ")\n",
        "\n",
        "#pass the data through the conv layer\n",
        "conv_output = conv_layer(test_image)\n",
        "#conv_output"
      ],
      "metadata": {
        "id": "hJVgWvfEctsx"
      },
      "execution_count": 47,
      "outputs": []
    },
    {
      "cell_type": "code",
      "source": [
        "conv_output.shape , test_image.shape"
      ],
      "metadata": {
        "colab": {
          "base_uri": "https://localhost:8080/"
        },
        "id": "pMAIjbY3g1Br",
        "outputId": "ab728a12-0b2e-42a5-e00b-9f98943f5685"
      },
      "execution_count": 48,
      "outputs": [
        {
          "output_type": "execute_result",
          "data": {
            "text/plain": [
              "(torch.Size([10, 64, 64]), torch.Size([3, 64, 64]))"
            ]
          },
          "metadata": {},
          "execution_count": 48
        }
      ]
    },
    {
      "cell_type": "markdown",
      "source": [
        "##  7.2 Stepping Thorugh `nn.MaxPool2d()`"
      ],
      "metadata": {
        "id": "ouR0Hu2dhPxr"
      }
    },
    {
      "cell_type": "code",
      "source": [
        "#sample image\n",
        "print(f\"shape of the sample image : {test_image.shape}\")\n",
        "\n",
        "# Create a sample MaxPool2d layer\n",
        "max_pool_layer = nn.MaxPool2d(kernel_size = 2)\n",
        "\n",
        "#pass the data through Conv2d layer\n",
        "test_image_through_conv = conv_layer(test_image)\n",
        "print(f\"Shape of test image after passing through the Conv2d layer: {test_image_through_conv.shape}\")\n",
        "\n",
        "#pass through the max pool layer\n",
        "test_image_through_conv_and_maxpool = max_pool_layer(test_image_through_conv)\n",
        "print(f\"Shape of the test_image after passing through conv and max_pool :{test_image_through_conv_and_maxpool.shape}\")\n"
      ],
      "metadata": {
        "colab": {
          "base_uri": "https://localhost:8080/"
        },
        "id": "KrXy_twyilFN",
        "outputId": "1d569c8f-3028-42aa-a7de-7da90ef7743b"
      },
      "execution_count": 49,
      "outputs": [
        {
          "output_type": "stream",
          "name": "stdout",
          "text": [
            "shape of the sample image : torch.Size([3, 64, 64])\n",
            "Shape of test image after passing through the Conv2d layer: torch.Size([10, 64, 64])\n",
            "Shape of the test_image after passing through conv and max_pool :torch.Size([10, 32, 32])\n"
          ]
        }
      ]
    },
    {
      "cell_type": "code",
      "source": [
        "#let's check closely what max pool layer actually doing and how compressing the feature space\n",
        "#just repeting the code we just wrote\n",
        "torch.manual_seed(42)\n",
        "\n",
        "#create a random tensor\n",
        "random_tensor = torch.randn(size=(1,2,2))\n",
        "print(f\"\\nRandom Tensor: \\n {random_tensor}\")\n",
        "print(f\"shape before passing to max_pool layer : {random_tensor.shape}\")\n",
        "\n",
        "#create a max pool tensor\n",
        "max_pool_tensor = max_pool_layer(random_tensor)\n",
        "print(f\"\\nMax Pool Tensor : \\n {max_pool_tensor}\")\n",
        "print(f\"shape after passing to max_pool_layer : {max_pool_tensor.shape}\")"
      ],
      "metadata": {
        "colab": {
          "base_uri": "https://localhost:8080/"
        },
        "id": "4dbNGF5ilEh6",
        "outputId": "b92eb77e-5a84-4ddd-9e4b-6e530ea0903e"
      },
      "execution_count": 50,
      "outputs": [
        {
          "output_type": "stream",
          "name": "stdout",
          "text": [
            "\n",
            "Random Tensor: \n",
            " tensor([[[0.3367, 0.1288],\n",
            "         [0.2345, 0.2303]]])\n",
            "shape before passing to max_pool layer : torch.Size([1, 2, 2])\n",
            "\n",
            "Max Pool Tensor : \n",
            " tensor([[[0.3367]]])\n",
            "shape after passing to max_pool_layer : torch.Size([1, 1, 1])\n"
          ]
        }
      ]
    },
    {
      "cell_type": "markdown",
      "source": [
        "# 7.3 Set up loss function and optimizer for model_2\n",
        " - set up loss function\n",
        " - set up optimizer\n",
        " - set up the evaluation metric"
      ],
      "metadata": {
        "id": "NvcjW4aD37Hy"
      }
    },
    {
      "cell_type": "code",
      "source": [
        "from helper_function import accuracy_fn\n",
        "\n",
        "loss_fn = nn.CrossEntropyLoss()\n",
        "optimizer = torch.optim.SGD(params = model_2.parameters() ,\n",
        "                            lr = 0.1)"
      ],
      "metadata": {
        "id": "S8LDs97D4BNL"
      },
      "execution_count": 84,
      "outputs": []
    },
    {
      "cell_type": "markdown",
      "source": [
        "## 7.4 Training and Testing model_2 using training and testing functions"
      ],
      "metadata": {
        "id": "_C9LAZwL42v3"
      }
    },
    {
      "cell_type": "code",
      "source": [
        "#combining the two functions\n",
        "torch.manual_seed(42)\n",
        "torch.cuda.manual_seed(42)\n",
        "\n",
        "# measure time\n",
        "from timeit import default_timer as Timer\n",
        "train_time_start_on_gpu = timer()\n",
        "\n",
        "#for epoch in tqdm(range(epochs)): ##run this way if you want to show progress bar for each epoch . i am removing it because it is not supported in pushing to github\n",
        "\n",
        "for epoch in range(epochs):\n",
        "  print(f\"Epoch :{epoch}\\n-----------\")\n",
        "  train_step(model_2,\n",
        "             train_dataloader,\n",
        "             loss_fn,\n",
        "             optimizer,\n",
        "             accuracy_fn,\n",
        "             device)\n",
        "\n",
        "  test_step(model_2,\n",
        "             test_dataloader,\n",
        "             loss_fn,\n",
        "             accuracy_fn,\n",
        "             device)\n",
        "\n",
        "train_time_end_on_gpu = timer()\n",
        "total_train_time_model_2 = print_train_time(train_time_start_on_gpu,\n",
        "                                            train_time_end_on_gpu,\n",
        "                                            device)"
      ],
      "metadata": {
        "id": "69ek90p455GC",
        "outputId": "b3a5e47d-c501-4ac8-b8f1-9cc1b09dbc2f",
        "colab": {
          "base_uri": "https://localhost:8080/"
        }
      },
      "execution_count": 85,
      "outputs": [
        {
          "output_type": "stream",
          "name": "stdout",
          "text": [
            "Epoch :0\n",
            "-----------\n",
            "Train Loss: 0.59518 | Train accuracy :78.37500%\n",
            "\n",
            " Test loss :0.3950 | Test acc :85.99% \n",
            "\n",
            "Epoch :1\n",
            "-----------\n",
            "Train Loss: 0.36536 | Train accuracy :86.90167%\n",
            "\n",
            " Test loss :0.3524 | Test acc :86.91% \n",
            "\n",
            "Epoch :2\n",
            "-----------\n",
            "Train Loss: 0.32588 | Train accuracy :88.12833%\n",
            "\n",
            " Test loss :0.3272 | Test acc :88.07% \n",
            "\n",
            "Train Time on cpu : 178.942 seconds\n"
          ]
        }
      ]
    },
    {
      "cell_type": "code",
      "source": [
        "#Get model_2 results dictionary\n",
        "model_2_results = eval_model(\n",
        "    model_2 ,\n",
        "    test_dataloader,\n",
        "    loss_fn,\n",
        "    accuracy_fn,\n",
        "    device\n",
        ")\n",
        "\n",
        "model_2_results"
      ],
      "metadata": {
        "id": "g94VC75riNRJ",
        "outputId": "2665f6ce-2226-4a59-ca73-8bf00f7784e5",
        "colab": {
          "base_uri": "https://localhost:8080/"
        }
      },
      "execution_count": 88,
      "outputs": [
        {
          "output_type": "execute_result",
          "data": {
            "text/plain": [
              "{'model_name': 'FashionMNISImodelv2',\n",
              " 'model_loss': 0.32718968391418457,\n",
              " 'model_accuracy': 88.06908945686901}"
            ]
          },
          "metadata": {},
          "execution_count": 88
        }
      ]
    },
    {
      "cell_type": "code",
      "source": [
        "model_0_results"
      ],
      "metadata": {
        "id": "biefbNx3kytq",
        "outputId": "4ea12662-8118-4389-9a7e-d675bea610ac",
        "colab": {
          "base_uri": "https://localhost:8080/"
        }
      },
      "execution_count": 89,
      "outputs": [
        {
          "output_type": "execute_result",
          "data": {
            "text/plain": [
              "{'model_name': 'FashionMNISTmodelv0',\n",
              " 'model_loss': 0.47663894295692444,\n",
              " 'model_accuracy': 83.42651757188499}"
            ]
          },
          "metadata": {},
          "execution_count": 89
        }
      ]
    },
    {
      "cell_type": "markdown",
      "source": [
        "# 8. Comparing Model results and Training time"
      ],
      "metadata": {
        "id": "K8WbQ00EisD3"
      }
    },
    {
      "cell_type": "code",
      "source": [
        "import pandas as pd\n",
        "compare_results = pd.DataFrame([model_0_results,\n",
        "                                model_1_results,\n",
        "                                model_2_results])\n",
        "compare_results"
      ],
      "metadata": {
        "id": "qgkoBy4-i4X4",
        "outputId": "ddd67a4d-3d58-483c-bec2-c42d05b8d997",
        "colab": {
          "base_uri": "https://localhost:8080/",
          "height": 143
        }
      },
      "execution_count": 90,
      "outputs": [
        {
          "output_type": "execute_result",
          "data": {
            "text/plain": [
              "            model_name  model_loss  model_accuracy\n",
              "0  FashionMNISTmodelv0    0.476639       83.426518\n",
              "1  FashionMNISTmodelv1    0.691704       74.810304\n",
              "2  FashionMNISImodelv2    0.327190       88.069089"
            ],
            "text/html": [
              "\n",
              "  <div id=\"df-b901f33e-1fe2-4454-87a5-d5bcb8511c2c\" class=\"colab-df-container\">\n",
              "    <div>\n",
              "<style scoped>\n",
              "    .dataframe tbody tr th:only-of-type {\n",
              "        vertical-align: middle;\n",
              "    }\n",
              "\n",
              "    .dataframe tbody tr th {\n",
              "        vertical-align: top;\n",
              "    }\n",
              "\n",
              "    .dataframe thead th {\n",
              "        text-align: right;\n",
              "    }\n",
              "</style>\n",
              "<table border=\"1\" class=\"dataframe\">\n",
              "  <thead>\n",
              "    <tr style=\"text-align: right;\">\n",
              "      <th></th>\n",
              "      <th>model_name</th>\n",
              "      <th>model_loss</th>\n",
              "      <th>model_accuracy</th>\n",
              "    </tr>\n",
              "  </thead>\n",
              "  <tbody>\n",
              "    <tr>\n",
              "      <th>0</th>\n",
              "      <td>FashionMNISTmodelv0</td>\n",
              "      <td>0.476639</td>\n",
              "      <td>83.426518</td>\n",
              "    </tr>\n",
              "    <tr>\n",
              "      <th>1</th>\n",
              "      <td>FashionMNISTmodelv1</td>\n",
              "      <td>0.691704</td>\n",
              "      <td>74.810304</td>\n",
              "    </tr>\n",
              "    <tr>\n",
              "      <th>2</th>\n",
              "      <td>FashionMNISImodelv2</td>\n",
              "      <td>0.327190</td>\n",
              "      <td>88.069089</td>\n",
              "    </tr>\n",
              "  </tbody>\n",
              "</table>\n",
              "</div>\n",
              "    <div class=\"colab-df-buttons\">\n",
              "\n",
              "  <div class=\"colab-df-container\">\n",
              "    <button class=\"colab-df-convert\" onclick=\"convertToInteractive('df-b901f33e-1fe2-4454-87a5-d5bcb8511c2c')\"\n",
              "            title=\"Convert this dataframe to an interactive table.\"\n",
              "            style=\"display:none;\">\n",
              "\n",
              "  <svg xmlns=\"http://www.w3.org/2000/svg\" height=\"24px\" viewBox=\"0 -960 960 960\">\n",
              "    <path d=\"M120-120v-720h720v720H120Zm60-500h600v-160H180v160Zm220 220h160v-160H400v160Zm0 220h160v-160H400v160ZM180-400h160v-160H180v160Zm440 0h160v-160H620v160ZM180-180h160v-160H180v160Zm440 0h160v-160H620v160Z\"/>\n",
              "  </svg>\n",
              "    </button>\n",
              "\n",
              "  <style>\n",
              "    .colab-df-container {\n",
              "      display:flex;\n",
              "      gap: 12px;\n",
              "    }\n",
              "\n",
              "    .colab-df-convert {\n",
              "      background-color: #E8F0FE;\n",
              "      border: none;\n",
              "      border-radius: 50%;\n",
              "      cursor: pointer;\n",
              "      display: none;\n",
              "      fill: #1967D2;\n",
              "      height: 32px;\n",
              "      padding: 0 0 0 0;\n",
              "      width: 32px;\n",
              "    }\n",
              "\n",
              "    .colab-df-convert:hover {\n",
              "      background-color: #E2EBFA;\n",
              "      box-shadow: 0px 1px 2px rgba(60, 64, 67, 0.3), 0px 1px 3px 1px rgba(60, 64, 67, 0.15);\n",
              "      fill: #174EA6;\n",
              "    }\n",
              "\n",
              "    .colab-df-buttons div {\n",
              "      margin-bottom: 4px;\n",
              "    }\n",
              "\n",
              "    [theme=dark] .colab-df-convert {\n",
              "      background-color: #3B4455;\n",
              "      fill: #D2E3FC;\n",
              "    }\n",
              "\n",
              "    [theme=dark] .colab-df-convert:hover {\n",
              "      background-color: #434B5C;\n",
              "      box-shadow: 0px 1px 3px 1px rgba(0, 0, 0, 0.15);\n",
              "      filter: drop-shadow(0px 1px 2px rgba(0, 0, 0, 0.3));\n",
              "      fill: #FFFFFF;\n",
              "    }\n",
              "  </style>\n",
              "\n",
              "    <script>\n",
              "      const buttonEl =\n",
              "        document.querySelector('#df-b901f33e-1fe2-4454-87a5-d5bcb8511c2c button.colab-df-convert');\n",
              "      buttonEl.style.display =\n",
              "        google.colab.kernel.accessAllowed ? 'block' : 'none';\n",
              "\n",
              "      async function convertToInteractive(key) {\n",
              "        const element = document.querySelector('#df-b901f33e-1fe2-4454-87a5-d5bcb8511c2c');\n",
              "        const dataTable =\n",
              "          await google.colab.kernel.invokeFunction('convertToInteractive',\n",
              "                                                    [key], {});\n",
              "        if (!dataTable) return;\n",
              "\n",
              "        const docLinkHtml = 'Like what you see? Visit the ' +\n",
              "          '<a target=\"_blank\" href=https://colab.research.google.com/notebooks/data_table.ipynb>data table notebook</a>'\n",
              "          + ' to learn more about interactive tables.';\n",
              "        element.innerHTML = '';\n",
              "        dataTable['output_type'] = 'display_data';\n",
              "        await google.colab.output.renderOutput(dataTable, element);\n",
              "        const docLink = document.createElement('div');\n",
              "        docLink.innerHTML = docLinkHtml;\n",
              "        element.appendChild(docLink);\n",
              "      }\n",
              "    </script>\n",
              "  </div>\n",
              "\n",
              "\n",
              "    <div id=\"df-ec4fddf4-b053-412a-a1b5-dee5b8b346fd\">\n",
              "      <button class=\"colab-df-quickchart\" onclick=\"quickchart('df-ec4fddf4-b053-412a-a1b5-dee5b8b346fd')\"\n",
              "                title=\"Suggest charts\"\n",
              "                style=\"display:none;\">\n",
              "\n",
              "<svg xmlns=\"http://www.w3.org/2000/svg\" height=\"24px\"viewBox=\"0 0 24 24\"\n",
              "     width=\"24px\">\n",
              "    <g>\n",
              "        <path d=\"M19 3H5c-1.1 0-2 .9-2 2v14c0 1.1.9 2 2 2h14c1.1 0 2-.9 2-2V5c0-1.1-.9-2-2-2zM9 17H7v-7h2v7zm4 0h-2V7h2v10zm4 0h-2v-4h2v4z\"/>\n",
              "    </g>\n",
              "</svg>\n",
              "      </button>\n",
              "\n",
              "<style>\n",
              "  .colab-df-quickchart {\n",
              "      --bg-color: #E8F0FE;\n",
              "      --fill-color: #1967D2;\n",
              "      --hover-bg-color: #E2EBFA;\n",
              "      --hover-fill-color: #174EA6;\n",
              "      --disabled-fill-color: #AAA;\n",
              "      --disabled-bg-color: #DDD;\n",
              "  }\n",
              "\n",
              "  [theme=dark] .colab-df-quickchart {\n",
              "      --bg-color: #3B4455;\n",
              "      --fill-color: #D2E3FC;\n",
              "      --hover-bg-color: #434B5C;\n",
              "      --hover-fill-color: #FFFFFF;\n",
              "      --disabled-bg-color: #3B4455;\n",
              "      --disabled-fill-color: #666;\n",
              "  }\n",
              "\n",
              "  .colab-df-quickchart {\n",
              "    background-color: var(--bg-color);\n",
              "    border: none;\n",
              "    border-radius: 50%;\n",
              "    cursor: pointer;\n",
              "    display: none;\n",
              "    fill: var(--fill-color);\n",
              "    height: 32px;\n",
              "    padding: 0;\n",
              "    width: 32px;\n",
              "  }\n",
              "\n",
              "  .colab-df-quickchart:hover {\n",
              "    background-color: var(--hover-bg-color);\n",
              "    box-shadow: 0 1px 2px rgba(60, 64, 67, 0.3), 0 1px 3px 1px rgba(60, 64, 67, 0.15);\n",
              "    fill: var(--button-hover-fill-color);\n",
              "  }\n",
              "\n",
              "  .colab-df-quickchart-complete:disabled,\n",
              "  .colab-df-quickchart-complete:disabled:hover {\n",
              "    background-color: var(--disabled-bg-color);\n",
              "    fill: var(--disabled-fill-color);\n",
              "    box-shadow: none;\n",
              "  }\n",
              "\n",
              "  .colab-df-spinner {\n",
              "    border: 2px solid var(--fill-color);\n",
              "    border-color: transparent;\n",
              "    border-bottom-color: var(--fill-color);\n",
              "    animation:\n",
              "      spin 1s steps(1) infinite;\n",
              "  }\n",
              "\n",
              "  @keyframes spin {\n",
              "    0% {\n",
              "      border-color: transparent;\n",
              "      border-bottom-color: var(--fill-color);\n",
              "      border-left-color: var(--fill-color);\n",
              "    }\n",
              "    20% {\n",
              "      border-color: transparent;\n",
              "      border-left-color: var(--fill-color);\n",
              "      border-top-color: var(--fill-color);\n",
              "    }\n",
              "    30% {\n",
              "      border-color: transparent;\n",
              "      border-left-color: var(--fill-color);\n",
              "      border-top-color: var(--fill-color);\n",
              "      border-right-color: var(--fill-color);\n",
              "    }\n",
              "    40% {\n",
              "      border-color: transparent;\n",
              "      border-right-color: var(--fill-color);\n",
              "      border-top-color: var(--fill-color);\n",
              "    }\n",
              "    60% {\n",
              "      border-color: transparent;\n",
              "      border-right-color: var(--fill-color);\n",
              "    }\n",
              "    80% {\n",
              "      border-color: transparent;\n",
              "      border-right-color: var(--fill-color);\n",
              "      border-bottom-color: var(--fill-color);\n",
              "    }\n",
              "    90% {\n",
              "      border-color: transparent;\n",
              "      border-bottom-color: var(--fill-color);\n",
              "    }\n",
              "  }\n",
              "</style>\n",
              "\n",
              "      <script>\n",
              "        async function quickchart(key) {\n",
              "          const quickchartButtonEl =\n",
              "            document.querySelector('#' + key + ' button');\n",
              "          quickchartButtonEl.disabled = true;  // To prevent multiple clicks.\n",
              "          quickchartButtonEl.classList.add('colab-df-spinner');\n",
              "          try {\n",
              "            const charts = await google.colab.kernel.invokeFunction(\n",
              "                'suggestCharts', [key], {});\n",
              "          } catch (error) {\n",
              "            console.error('Error during call to suggestCharts:', error);\n",
              "          }\n",
              "          quickchartButtonEl.classList.remove('colab-df-spinner');\n",
              "          quickchartButtonEl.classList.add('colab-df-quickchart-complete');\n",
              "        }\n",
              "        (() => {\n",
              "          let quickchartButtonEl =\n",
              "            document.querySelector('#df-ec4fddf4-b053-412a-a1b5-dee5b8b346fd button');\n",
              "          quickchartButtonEl.style.display =\n",
              "            google.colab.kernel.accessAllowed ? 'block' : 'none';\n",
              "        })();\n",
              "      </script>\n",
              "    </div>\n",
              "\n",
              "  <div id=\"id_c414a99f-a73c-463d-a978-472ccfae72a9\">\n",
              "    <style>\n",
              "      .colab-df-generate {\n",
              "        background-color: #E8F0FE;\n",
              "        border: none;\n",
              "        border-radius: 50%;\n",
              "        cursor: pointer;\n",
              "        display: none;\n",
              "        fill: #1967D2;\n",
              "        height: 32px;\n",
              "        padding: 0 0 0 0;\n",
              "        width: 32px;\n",
              "      }\n",
              "\n",
              "      .colab-df-generate:hover {\n",
              "        background-color: #E2EBFA;\n",
              "        box-shadow: 0px 1px 2px rgba(60, 64, 67, 0.3), 0px 1px 3px 1px rgba(60, 64, 67, 0.15);\n",
              "        fill: #174EA6;\n",
              "      }\n",
              "\n",
              "      [theme=dark] .colab-df-generate {\n",
              "        background-color: #3B4455;\n",
              "        fill: #D2E3FC;\n",
              "      }\n",
              "\n",
              "      [theme=dark] .colab-df-generate:hover {\n",
              "        background-color: #434B5C;\n",
              "        box-shadow: 0px 1px 3px 1px rgba(0, 0, 0, 0.15);\n",
              "        filter: drop-shadow(0px 1px 2px rgba(0, 0, 0, 0.3));\n",
              "        fill: #FFFFFF;\n",
              "      }\n",
              "    </style>\n",
              "    <button class=\"colab-df-generate\" onclick=\"generateWithVariable('compare_results')\"\n",
              "            title=\"Generate code using this dataframe.\"\n",
              "            style=\"display:none;\">\n",
              "\n",
              "  <svg xmlns=\"http://www.w3.org/2000/svg\" height=\"24px\"viewBox=\"0 0 24 24\"\n",
              "       width=\"24px\">\n",
              "    <path d=\"M7,19H8.4L18.45,9,17,7.55,7,17.6ZM5,21V16.75L18.45,3.32a2,2,0,0,1,2.83,0l1.4,1.43a1.91,1.91,0,0,1,.58,1.4,1.91,1.91,0,0,1-.58,1.4L9.25,21ZM18.45,9,17,7.55Zm-12,3A5.31,5.31,0,0,0,4.9,8.1,5.31,5.31,0,0,0,1,6.5,5.31,5.31,0,0,0,4.9,4.9,5.31,5.31,0,0,0,6.5,1,5.31,5.31,0,0,0,8.1,4.9,5.31,5.31,0,0,0,12,6.5,5.46,5.46,0,0,0,6.5,12Z\"/>\n",
              "  </svg>\n",
              "    </button>\n",
              "    <script>\n",
              "      (() => {\n",
              "      const buttonEl =\n",
              "        document.querySelector('#id_c414a99f-a73c-463d-a978-472ccfae72a9 button.colab-df-generate');\n",
              "      buttonEl.style.display =\n",
              "        google.colab.kernel.accessAllowed ? 'block' : 'none';\n",
              "\n",
              "      buttonEl.onclick = () => {\n",
              "        google.colab.notebook.generateWithVariable('compare_results');\n",
              "      }\n",
              "      })();\n",
              "    </script>\n",
              "  </div>\n",
              "\n",
              "    </div>\n",
              "  </div>\n"
            ],
            "application/vnd.google.colaboratory.intrinsic+json": {
              "type": "dataframe",
              "variable_name": "compare_results",
              "summary": "{\n  \"name\": \"compare_results\",\n  \"rows\": 3,\n  \"fields\": [\n    {\n      \"column\": \"model_name\",\n      \"properties\": {\n        \"dtype\": \"string\",\n        \"num_unique_values\": 3,\n        \"samples\": [\n          \"FashionMNISTmodelv0\",\n          \"FashionMNISTmodelv1\",\n          \"FashionMNISImodelv2\"\n        ],\n        \"semantic_type\": \"\",\n        \"description\": \"\"\n      }\n    },\n    {\n      \"column\": \"model_loss\",\n      \"properties\": {\n        \"dtype\": \"number\",\n        \"std\": 0.18323881810620027,\n        \"min\": 0.32718968391418457,\n        \"max\": 0.6917040348052979,\n        \"num_unique_values\": 3,\n        \"samples\": [\n          0.47663894295692444,\n          0.6917040348052979,\n          0.32718968391418457\n        ],\n        \"semantic_type\": \"\",\n        \"description\": \"\"\n      }\n    },\n    {\n      \"column\": \"model_accuracy\",\n      \"properties\": {\n        \"dtype\": \"number\",\n        \"std\": 6.727902385598676,\n        \"min\": 74.810303514377,\n        \"max\": 88.06908945686901,\n        \"num_unique_values\": 3,\n        \"samples\": [\n          83.42651757188499,\n          74.810303514377,\n          88.06908945686901\n        ],\n        \"semantic_type\": \"\",\n        \"description\": \"\"\n      }\n    }\n  ]\n}"
            }
          },
          "metadata": {},
          "execution_count": 90
        }
      ]
    },
    {
      "cell_type": "code",
      "source": [
        "#Add training time column in the dataframe\n",
        "compare_results['training_time'] = [total_train_time_model_0,\n",
        "                                    total_train_time_model_1,\n",
        "                                    total_train_time_model_2]"
      ],
      "metadata": {
        "id": "M-3ErQZnmJUZ"
      },
      "execution_count": 91,
      "outputs": []
    },
    {
      "cell_type": "code",
      "source": [
        "compare_results\n"
      ],
      "metadata": {
        "id": "La-mR4NKmeI9",
        "outputId": "df8f3f24-996d-4e26-c943-6276d6493d23",
        "colab": {
          "base_uri": "https://localhost:8080/",
          "height": 143
        }
      },
      "execution_count": 92,
      "outputs": [
        {
          "output_type": "execute_result",
          "data": {
            "text/plain": [
              "            model_name  model_loss  model_accuracy  training_time\n",
              "0  FashionMNISTmodelv0    0.476639       83.426518      33.994543\n",
              "1  FashionMNISTmodelv1    0.691704       74.810304      34.944731\n",
              "2  FashionMNISImodelv2    0.327190       88.069089     178.942332"
            ],
            "text/html": [
              "\n",
              "  <div id=\"df-ec1f70c5-97af-46e9-bcff-bfe9beafb6b0\" class=\"colab-df-container\">\n",
              "    <div>\n",
              "<style scoped>\n",
              "    .dataframe tbody tr th:only-of-type {\n",
              "        vertical-align: middle;\n",
              "    }\n",
              "\n",
              "    .dataframe tbody tr th {\n",
              "        vertical-align: top;\n",
              "    }\n",
              "\n",
              "    .dataframe thead th {\n",
              "        text-align: right;\n",
              "    }\n",
              "</style>\n",
              "<table border=\"1\" class=\"dataframe\">\n",
              "  <thead>\n",
              "    <tr style=\"text-align: right;\">\n",
              "      <th></th>\n",
              "      <th>model_name</th>\n",
              "      <th>model_loss</th>\n",
              "      <th>model_accuracy</th>\n",
              "      <th>training_time</th>\n",
              "    </tr>\n",
              "  </thead>\n",
              "  <tbody>\n",
              "    <tr>\n",
              "      <th>0</th>\n",
              "      <td>FashionMNISTmodelv0</td>\n",
              "      <td>0.476639</td>\n",
              "      <td>83.426518</td>\n",
              "      <td>33.994543</td>\n",
              "    </tr>\n",
              "    <tr>\n",
              "      <th>1</th>\n",
              "      <td>FashionMNISTmodelv1</td>\n",
              "      <td>0.691704</td>\n",
              "      <td>74.810304</td>\n",
              "      <td>34.944731</td>\n",
              "    </tr>\n",
              "    <tr>\n",
              "      <th>2</th>\n",
              "      <td>FashionMNISImodelv2</td>\n",
              "      <td>0.327190</td>\n",
              "      <td>88.069089</td>\n",
              "      <td>178.942332</td>\n",
              "    </tr>\n",
              "  </tbody>\n",
              "</table>\n",
              "</div>\n",
              "    <div class=\"colab-df-buttons\">\n",
              "\n",
              "  <div class=\"colab-df-container\">\n",
              "    <button class=\"colab-df-convert\" onclick=\"convertToInteractive('df-ec1f70c5-97af-46e9-bcff-bfe9beafb6b0')\"\n",
              "            title=\"Convert this dataframe to an interactive table.\"\n",
              "            style=\"display:none;\">\n",
              "\n",
              "  <svg xmlns=\"http://www.w3.org/2000/svg\" height=\"24px\" viewBox=\"0 -960 960 960\">\n",
              "    <path d=\"M120-120v-720h720v720H120Zm60-500h600v-160H180v160Zm220 220h160v-160H400v160Zm0 220h160v-160H400v160ZM180-400h160v-160H180v160Zm440 0h160v-160H620v160ZM180-180h160v-160H180v160Zm440 0h160v-160H620v160Z\"/>\n",
              "  </svg>\n",
              "    </button>\n",
              "\n",
              "  <style>\n",
              "    .colab-df-container {\n",
              "      display:flex;\n",
              "      gap: 12px;\n",
              "    }\n",
              "\n",
              "    .colab-df-convert {\n",
              "      background-color: #E8F0FE;\n",
              "      border: none;\n",
              "      border-radius: 50%;\n",
              "      cursor: pointer;\n",
              "      display: none;\n",
              "      fill: #1967D2;\n",
              "      height: 32px;\n",
              "      padding: 0 0 0 0;\n",
              "      width: 32px;\n",
              "    }\n",
              "\n",
              "    .colab-df-convert:hover {\n",
              "      background-color: #E2EBFA;\n",
              "      box-shadow: 0px 1px 2px rgba(60, 64, 67, 0.3), 0px 1px 3px 1px rgba(60, 64, 67, 0.15);\n",
              "      fill: #174EA6;\n",
              "    }\n",
              "\n",
              "    .colab-df-buttons div {\n",
              "      margin-bottom: 4px;\n",
              "    }\n",
              "\n",
              "    [theme=dark] .colab-df-convert {\n",
              "      background-color: #3B4455;\n",
              "      fill: #D2E3FC;\n",
              "    }\n",
              "\n",
              "    [theme=dark] .colab-df-convert:hover {\n",
              "      background-color: #434B5C;\n",
              "      box-shadow: 0px 1px 3px 1px rgba(0, 0, 0, 0.15);\n",
              "      filter: drop-shadow(0px 1px 2px rgba(0, 0, 0, 0.3));\n",
              "      fill: #FFFFFF;\n",
              "    }\n",
              "  </style>\n",
              "\n",
              "    <script>\n",
              "      const buttonEl =\n",
              "        document.querySelector('#df-ec1f70c5-97af-46e9-bcff-bfe9beafb6b0 button.colab-df-convert');\n",
              "      buttonEl.style.display =\n",
              "        google.colab.kernel.accessAllowed ? 'block' : 'none';\n",
              "\n",
              "      async function convertToInteractive(key) {\n",
              "        const element = document.querySelector('#df-ec1f70c5-97af-46e9-bcff-bfe9beafb6b0');\n",
              "        const dataTable =\n",
              "          await google.colab.kernel.invokeFunction('convertToInteractive',\n",
              "                                                    [key], {});\n",
              "        if (!dataTable) return;\n",
              "\n",
              "        const docLinkHtml = 'Like what you see? Visit the ' +\n",
              "          '<a target=\"_blank\" href=https://colab.research.google.com/notebooks/data_table.ipynb>data table notebook</a>'\n",
              "          + ' to learn more about interactive tables.';\n",
              "        element.innerHTML = '';\n",
              "        dataTable['output_type'] = 'display_data';\n",
              "        await google.colab.output.renderOutput(dataTable, element);\n",
              "        const docLink = document.createElement('div');\n",
              "        docLink.innerHTML = docLinkHtml;\n",
              "        element.appendChild(docLink);\n",
              "      }\n",
              "    </script>\n",
              "  </div>\n",
              "\n",
              "\n",
              "    <div id=\"df-d1f5f9d0-fc68-4c9f-8071-ada4f84ed6e9\">\n",
              "      <button class=\"colab-df-quickchart\" onclick=\"quickchart('df-d1f5f9d0-fc68-4c9f-8071-ada4f84ed6e9')\"\n",
              "                title=\"Suggest charts\"\n",
              "                style=\"display:none;\">\n",
              "\n",
              "<svg xmlns=\"http://www.w3.org/2000/svg\" height=\"24px\"viewBox=\"0 0 24 24\"\n",
              "     width=\"24px\">\n",
              "    <g>\n",
              "        <path d=\"M19 3H5c-1.1 0-2 .9-2 2v14c0 1.1.9 2 2 2h14c1.1 0 2-.9 2-2V5c0-1.1-.9-2-2-2zM9 17H7v-7h2v7zm4 0h-2V7h2v10zm4 0h-2v-4h2v4z\"/>\n",
              "    </g>\n",
              "</svg>\n",
              "      </button>\n",
              "\n",
              "<style>\n",
              "  .colab-df-quickchart {\n",
              "      --bg-color: #E8F0FE;\n",
              "      --fill-color: #1967D2;\n",
              "      --hover-bg-color: #E2EBFA;\n",
              "      --hover-fill-color: #174EA6;\n",
              "      --disabled-fill-color: #AAA;\n",
              "      --disabled-bg-color: #DDD;\n",
              "  }\n",
              "\n",
              "  [theme=dark] .colab-df-quickchart {\n",
              "      --bg-color: #3B4455;\n",
              "      --fill-color: #D2E3FC;\n",
              "      --hover-bg-color: #434B5C;\n",
              "      --hover-fill-color: #FFFFFF;\n",
              "      --disabled-bg-color: #3B4455;\n",
              "      --disabled-fill-color: #666;\n",
              "  }\n",
              "\n",
              "  .colab-df-quickchart {\n",
              "    background-color: var(--bg-color);\n",
              "    border: none;\n",
              "    border-radius: 50%;\n",
              "    cursor: pointer;\n",
              "    display: none;\n",
              "    fill: var(--fill-color);\n",
              "    height: 32px;\n",
              "    padding: 0;\n",
              "    width: 32px;\n",
              "  }\n",
              "\n",
              "  .colab-df-quickchart:hover {\n",
              "    background-color: var(--hover-bg-color);\n",
              "    box-shadow: 0 1px 2px rgba(60, 64, 67, 0.3), 0 1px 3px 1px rgba(60, 64, 67, 0.15);\n",
              "    fill: var(--button-hover-fill-color);\n",
              "  }\n",
              "\n",
              "  .colab-df-quickchart-complete:disabled,\n",
              "  .colab-df-quickchart-complete:disabled:hover {\n",
              "    background-color: var(--disabled-bg-color);\n",
              "    fill: var(--disabled-fill-color);\n",
              "    box-shadow: none;\n",
              "  }\n",
              "\n",
              "  .colab-df-spinner {\n",
              "    border: 2px solid var(--fill-color);\n",
              "    border-color: transparent;\n",
              "    border-bottom-color: var(--fill-color);\n",
              "    animation:\n",
              "      spin 1s steps(1) infinite;\n",
              "  }\n",
              "\n",
              "  @keyframes spin {\n",
              "    0% {\n",
              "      border-color: transparent;\n",
              "      border-bottom-color: var(--fill-color);\n",
              "      border-left-color: var(--fill-color);\n",
              "    }\n",
              "    20% {\n",
              "      border-color: transparent;\n",
              "      border-left-color: var(--fill-color);\n",
              "      border-top-color: var(--fill-color);\n",
              "    }\n",
              "    30% {\n",
              "      border-color: transparent;\n",
              "      border-left-color: var(--fill-color);\n",
              "      border-top-color: var(--fill-color);\n",
              "      border-right-color: var(--fill-color);\n",
              "    }\n",
              "    40% {\n",
              "      border-color: transparent;\n",
              "      border-right-color: var(--fill-color);\n",
              "      border-top-color: var(--fill-color);\n",
              "    }\n",
              "    60% {\n",
              "      border-color: transparent;\n",
              "      border-right-color: var(--fill-color);\n",
              "    }\n",
              "    80% {\n",
              "      border-color: transparent;\n",
              "      border-right-color: var(--fill-color);\n",
              "      border-bottom-color: var(--fill-color);\n",
              "    }\n",
              "    90% {\n",
              "      border-color: transparent;\n",
              "      border-bottom-color: var(--fill-color);\n",
              "    }\n",
              "  }\n",
              "</style>\n",
              "\n",
              "      <script>\n",
              "        async function quickchart(key) {\n",
              "          const quickchartButtonEl =\n",
              "            document.querySelector('#' + key + ' button');\n",
              "          quickchartButtonEl.disabled = true;  // To prevent multiple clicks.\n",
              "          quickchartButtonEl.classList.add('colab-df-spinner');\n",
              "          try {\n",
              "            const charts = await google.colab.kernel.invokeFunction(\n",
              "                'suggestCharts', [key], {});\n",
              "          } catch (error) {\n",
              "            console.error('Error during call to suggestCharts:', error);\n",
              "          }\n",
              "          quickchartButtonEl.classList.remove('colab-df-spinner');\n",
              "          quickchartButtonEl.classList.add('colab-df-quickchart-complete');\n",
              "        }\n",
              "        (() => {\n",
              "          let quickchartButtonEl =\n",
              "            document.querySelector('#df-d1f5f9d0-fc68-4c9f-8071-ada4f84ed6e9 button');\n",
              "          quickchartButtonEl.style.display =\n",
              "            google.colab.kernel.accessAllowed ? 'block' : 'none';\n",
              "        })();\n",
              "      </script>\n",
              "    </div>\n",
              "\n",
              "  <div id=\"id_c617759b-e358-479f-af1c-03ff4399d64e\">\n",
              "    <style>\n",
              "      .colab-df-generate {\n",
              "        background-color: #E8F0FE;\n",
              "        border: none;\n",
              "        border-radius: 50%;\n",
              "        cursor: pointer;\n",
              "        display: none;\n",
              "        fill: #1967D2;\n",
              "        height: 32px;\n",
              "        padding: 0 0 0 0;\n",
              "        width: 32px;\n",
              "      }\n",
              "\n",
              "      .colab-df-generate:hover {\n",
              "        background-color: #E2EBFA;\n",
              "        box-shadow: 0px 1px 2px rgba(60, 64, 67, 0.3), 0px 1px 3px 1px rgba(60, 64, 67, 0.15);\n",
              "        fill: #174EA6;\n",
              "      }\n",
              "\n",
              "      [theme=dark] .colab-df-generate {\n",
              "        background-color: #3B4455;\n",
              "        fill: #D2E3FC;\n",
              "      }\n",
              "\n",
              "      [theme=dark] .colab-df-generate:hover {\n",
              "        background-color: #434B5C;\n",
              "        box-shadow: 0px 1px 3px 1px rgba(0, 0, 0, 0.15);\n",
              "        filter: drop-shadow(0px 1px 2px rgba(0, 0, 0, 0.3));\n",
              "        fill: #FFFFFF;\n",
              "      }\n",
              "    </style>\n",
              "    <button class=\"colab-df-generate\" onclick=\"generateWithVariable('compare_results')\"\n",
              "            title=\"Generate code using this dataframe.\"\n",
              "            style=\"display:none;\">\n",
              "\n",
              "  <svg xmlns=\"http://www.w3.org/2000/svg\" height=\"24px\"viewBox=\"0 0 24 24\"\n",
              "       width=\"24px\">\n",
              "    <path d=\"M7,19H8.4L18.45,9,17,7.55,7,17.6ZM5,21V16.75L18.45,3.32a2,2,0,0,1,2.83,0l1.4,1.43a1.91,1.91,0,0,1,.58,1.4,1.91,1.91,0,0,1-.58,1.4L9.25,21ZM18.45,9,17,7.55Zm-12,3A5.31,5.31,0,0,0,4.9,8.1,5.31,5.31,0,0,0,1,6.5,5.31,5.31,0,0,0,4.9,4.9,5.31,5.31,0,0,0,6.5,1,5.31,5.31,0,0,0,8.1,4.9,5.31,5.31,0,0,0,12,6.5,5.46,5.46,0,0,0,6.5,12Z\"/>\n",
              "  </svg>\n",
              "    </button>\n",
              "    <script>\n",
              "      (() => {\n",
              "      const buttonEl =\n",
              "        document.querySelector('#id_c617759b-e358-479f-af1c-03ff4399d64e button.colab-df-generate');\n",
              "      buttonEl.style.display =\n",
              "        google.colab.kernel.accessAllowed ? 'block' : 'none';\n",
              "\n",
              "      buttonEl.onclick = () => {\n",
              "        google.colab.notebook.generateWithVariable('compare_results');\n",
              "      }\n",
              "      })();\n",
              "    </script>\n",
              "  </div>\n",
              "\n",
              "    </div>\n",
              "  </div>\n"
            ],
            "application/vnd.google.colaboratory.intrinsic+json": {
              "type": "dataframe",
              "variable_name": "compare_results",
              "summary": "{\n  \"name\": \"compare_results\",\n  \"rows\": 3,\n  \"fields\": [\n    {\n      \"column\": \"model_name\",\n      \"properties\": {\n        \"dtype\": \"string\",\n        \"num_unique_values\": 3,\n        \"samples\": [\n          \"FashionMNISTmodelv0\",\n          \"FashionMNISTmodelv1\",\n          \"FashionMNISImodelv2\"\n        ],\n        \"semantic_type\": \"\",\n        \"description\": \"\"\n      }\n    },\n    {\n      \"column\": \"model_loss\",\n      \"properties\": {\n        \"dtype\": \"number\",\n        \"std\": 0.18323881810620027,\n        \"min\": 0.32718968391418457,\n        \"max\": 0.6917040348052979,\n        \"num_unique_values\": 3,\n        \"samples\": [\n          0.47663894295692444,\n          0.6917040348052979,\n          0.32718968391418457\n        ],\n        \"semantic_type\": \"\",\n        \"description\": \"\"\n      }\n    },\n    {\n      \"column\": \"model_accuracy\",\n      \"properties\": {\n        \"dtype\": \"number\",\n        \"std\": 6.727902385598676,\n        \"min\": 74.810303514377,\n        \"max\": 88.06908945686901,\n        \"num_unique_values\": 3,\n        \"samples\": [\n          83.42651757188499,\n          74.810303514377,\n          88.06908945686901\n        ],\n        \"semantic_type\": \"\",\n        \"description\": \"\"\n      }\n    },\n    {\n      \"column\": \"training_time\",\n      \"properties\": {\n        \"dtype\": \"number\",\n        \"std\": 83.41270248608237,\n        \"min\": 33.994542645000024,\n        \"max\": 178.94233222899993,\n        \"num_unique_values\": 3,\n        \"samples\": [\n          33.994542645000024,\n          34.944731373000195,\n          178.94233222899993\n        ],\n        \"semantic_type\": \"\",\n        \"description\": \"\"\n      }\n    }\n  ]\n}"
            }
          },
          "metadata": {},
          "execution_count": 92
        }
      ]
    },
    {
      "cell_type": "markdown",
      "source": [
        "Note : training time for model_2 is too high . It is because it is being trained on CPU due to GPU free quota limit exceed"
      ],
      "metadata": {
        "id": "mn-9DJJ0mglg"
      }
    },
    {
      "cell_type": "code",
      "source": [
        "#visiulaize\n",
        "compare_results.set_index(\"model_name\")[\"model_accuracy\"].plot(kind = \"barh\")\n",
        "plt.xlabel(\"Accuracy(%)\")\n",
        "plt.ylabel(\"Model Names\")\n",
        "plt.show()"
      ],
      "metadata": {
        "id": "HM960fElm3Ct",
        "outputId": "e7b1ca6e-809e-4b9c-c452-b34b66ce70ab",
        "colab": {
          "base_uri": "https://localhost:8080/",
          "height": 449
        }
      },
      "execution_count": 97,
      "outputs": [
        {
          "output_type": "display_data",
          "data": {
            "text/plain": [
              "<Figure size 640x480 with 1 Axes>"
            ],
            "image/png": "[encoded data removed]"
          },
          "metadata": {}
        }
      ]
    },
    {
      "cell_type": "markdown",
      "source": [
        "# 9. Make and Evaluate random predictions with the best model"
      ],
      "metadata": {
        "id": "k1dqZL6im-Bm"
      }
    },
    {
      "cell_type": "code",
      "source": [
        "#prediction Function\n",
        "\n",
        "def make_predictions(model: torch.nn.Module ,\n",
        "                     data : list,\n",
        "                     device: torch.device=device):\n",
        "\n",
        "  pred_probs = []\n",
        "  model.to(device)\n",
        "  model.eval()\n",
        "  with torch.inference_mode():\n",
        "    for sample in data :\n",
        "      #create sample(add a batch dimension and pass to target device)\n",
        "      sample = torch.unsqueeze(sample, dim= 0).to(device)\n",
        "\n",
        "      #forward pass (model otputs raw logits)\n",
        "      pred_logits = model(sample)\n",
        "\n",
        "      #prediction probabilies from raw logits\n",
        "      pred_prob = torch.softmax(pred_logits.squeeze() , dim = 0)\n",
        "\n",
        "      #get probabilies off to the GPU for further calculations\n",
        "      pred_probs.append(pred_prob.cpu())\n",
        "\n",
        "    #stack the pred_probs to turn the list to tensor\n",
        "    return torch.stack(pred_probs)"
      ],
      "metadata": {
        "id": "G_BPqcLho0L9"
      },
      "execution_count": 98,
      "outputs": []
    },
    {
      "cell_type": "code",
      "source": [
        "#looking at our test data\n",
        "# we have to choose some random samples from this test data\n",
        "img , label = test_data[0][:10]\n",
        "img.shape , label"
      ],
      "metadata": {
        "id": "9WpiZOkFvAFL",
        "outputId": "925cef12-486e-4b73-d036-c79283ef86a2",
        "colab": {
          "base_uri": "https://localhost:8080/"
        }
      },
      "execution_count": 103,
      "outputs": [
        {
          "output_type": "execute_result",
          "data": {
            "text/plain": [
              "(torch.Size([1, 28, 28]), 9)"
            ]
          },
          "metadata": {},
          "execution_count": 103
        }
      ]
    },
    {
      "cell_type": "code",
      "source": [
        "#calling the functions on random samples from test_data\n",
        "import random\n",
        "random.seed(42)\n",
        "test_samples = []\n",
        "test_labels = []\n",
        "for sample , label in random.sample(list(test_data) , k=9):\n",
        "  test_samples.append(sample)\n",
        "  test_labels.append(label)\n",
        "\n",
        "#view the first sample image\n",
        "test_samples[0].shape\n"
      ],
      "metadata": {
        "id": "FtxdZotKuLai",
        "outputId": "21ae2af0-484c-4a9a-ee91-16f0f6eaca95",
        "colab": {
          "base_uri": "https://localhost:8080/"
        }
      },
      "execution_count": 139,
      "outputs": [
        {
          "output_type": "execute_result",
          "data": {
            "text/plain": [
              "torch.Size([1, 28, 28])"
            ]
          },
          "metadata": {},
          "execution_count": 139
        }
      ]
    },
    {
      "cell_type": "code",
      "source": [
        "#visiualize\n",
        "plt.imshow(test_samples[0].squeeze() , cmap= \"grey\")\n",
        "plt.title(class_names[test_labels[0]])"
      ],
      "metadata": {
        "id": "aqoB7zFBxB7S",
        "outputId": "a9dd787a-2010-4857-c83f-f8f2046c5280",
        "colab": {
          "base_uri": "https://localhost:8080/",
          "height": 469
        }
      },
      "execution_count": 140,
      "outputs": [
        {
          "output_type": "execute_result",
          "data": {
            "text/plain": [
              "Text(0.5, 1.0, 'Sandal')"
            ]
          },
          "metadata": {},
          "execution_count": 140
        },
        {
          "output_type": "display_data",
          "data": {
            "text/plain": [
              "<Figure size 640x480 with 1 Axes>"
            ],
            "image/png": "[encoded data removed]"
          },
          "metadata": {}
        }
      ]
    },
    {
      "cell_type": "code",
      "source": [
        "#Make Predictions\n",
        "\n",
        "pred_probs = make_predictions(model_2 ,\n",
        "                              test_samples)\n",
        "#view first two prediction probabilities\n",
        "pred_probs[:2]"
      ],
      "metadata": {
        "id": "X-aA6uvkxf1B",
        "outputId": "827a237c-1804-45c7-f030-b766159a8b29",
        "colab": {
          "base_uri": "https://localhost:8080/"
        }
      },
      "execution_count": 141,
      "outputs": [
        {
          "output_type": "execute_result",
          "data": {
            "text/plain": [
              "tensor([[1.4021e-06, 1.7343e-07, 4.4511e-07, 1.2103e-05, 5.4026e-07, 9.9938e-01,\n",
              "         3.7154e-06, 2.1650e-04, 1.4199e-04, 2.4416e-04],\n",
              "        [1.0080e-01, 5.6287e-01, 7.4506e-04, 1.1212e-01, 6.3881e-02, 3.0674e-04,\n",
              "         1.5560e-01, 1.6463e-03, 1.0169e-03, 1.0133e-03]])"
            ]
          },
          "metadata": {},
          "execution_count": 141
        }
      ]
    },
    {
      "cell_type": "code",
      "source": [
        "#convert prediction probabilities to labels\n",
        "pred_classes = pred_probs.argmax(dim = 1)\n",
        "pred_classes , test_labels"
      ],
      "metadata": {
        "id": "IdDU8DwfyJFs",
        "outputId": "c0b33354-a63c-4583-8b68-21302565e9ad",
        "colab": {
          "base_uri": "https://localhost:8080/"
        }
      },
      "execution_count": 142,
      "outputs": [
        {
          "output_type": "execute_result",
          "data": {
            "text/plain": [
              "(tensor([5, 1, 7, 4, 3, 0, 4, 7, 1]), [5, 1, 7, 4, 3, 0, 4, 7, 1])"
            ]
          },
          "metadata": {},
          "execution_count": 142
        }
      ]
    },
    {
      "cell_type": "markdown",
      "source": [
        "## Visiualize the predictions\n"
      ],
      "metadata": {
        "id": "KobgeU6Gyk2B"
      }
    },
    {
      "cell_type": "code",
      "source": [
        "plt.figure(figsize=(9,9))\n",
        "nrows = 3\n",
        "ncols = 3\n",
        "for i , sample in enumerate(test_samples):\n",
        "  #create subplot\n",
        "  plt.subplot(nrows , ncols , i+1)\n",
        "\n",
        "  #plot the target image\n",
        "  plt.imshow(sample.squeeze() , cmap= \"grey\")\n",
        "\n",
        "  #Find the predictions in text form\n",
        "  pred_label = class_names[pred_classes[i]]\n",
        "\n",
        "  #get the truth label\n",
        "  truth_label = class_names[test_labels[i]]\n",
        "\n",
        "  #create a title for th plot\n",
        "  title_text = f\"Pred : {pred_label} | Truth :{truth_label}\"\n",
        "\n",
        "  #check for equality\n",
        "  if pred_label == truth_label :\n",
        "    plt.title(title_text , fontsize = 10 , c=\"g\")\n",
        "\n",
        "  else :\n",
        "    plt.title(title_text , fontsize = 10 , c=\"r\")\n",
        "\n",
        "\n",
        "\n",
        "\n"
      ],
      "metadata": {
        "id": "dokkzfZ-0MXM",
        "outputId": "fef13e92-1d34-445c-f98e-da18f4ddc17c",
        "colab": {
          "base_uri": "https://localhost:8080/",
          "height": 773
        }
      },
      "execution_count": 143,
      "outputs": [
        {
          "output_type": "display_data",
          "data": {
            "text/plain": [
              "<Figure size 900x900 with 9 Axes>"
            ],
            "image/png": "[encoded data removed]"
          },
          "metadata": {}
        }
      ]
    },
    {
      "cell_type": "markdown",
      "source": [
        "# 10. Making a confusion matrix for furthur prediction evaluation\n",
        "\n",
        "A confusion matrix is a fantastic way of evaluating your classification model visiually.\n",
        "\n",
        "1. Make predictions with our trained model on test dataset\n",
        "2. Make a confusion matrix `torchmetrics.ConfusionMatrix`\n",
        "3. Plot the confusion matrix"
      ],
      "metadata": {
        "id": "11IG2qK71i6G"
      }
    },
    {
      "cell_type": "code",
      "source": [
        "#from tqdm.auto import tqdm\n",
        " #Make predictions\n",
        "\n",
        "y_preds =[]\n",
        "model_2.eval()\n",
        "with torch.inference_mode():\n",
        "  for X , y in test_dataloader:\n",
        "    #Send data to the target device\n",
        "    X , y = X.to(device) , y.to(device)\n",
        "\n",
        "    #Do the forward pass\n",
        "    y_logits = model_2(X)\n",
        "\n",
        "    #logits to prediction probabilities\n",
        "    y_pred = torch.softmax(y_logits.squeeze() , dim = 0).argmax(dim = 1)\n",
        "\n",
        "    #put prediction on CPU for evaluation\n",
        "    y_preds.append(y_pred.cpu())\n",
        "\n",
        "  #concatenate list of predictions into a tensor\n",
        "  #print(y_preds)\n",
        "y_pred_tensor = torch.cat(y_preds)\n",
        "y_pred_tensor"
      ],
      "metadata": {
        "id": "fUs75_l45fg1",
        "outputId": "96450129-5c56-450a-bf8a-80943f6847bd",
        "colab": {
          "base_uri": "https://localhost:8080/"
        }
      },
      "execution_count": 154,
      "outputs": [
        {
          "output_type": "execute_result",
          "data": {
            "text/plain": [
              "tensor([9, 2, 1,  ..., 8, 1, 8])"
            ]
          },
          "metadata": {},
          "execution_count": 154
        }
      ]
    },
    {
      "cell_type": "code",
      "source": [
        "len(y_pred_tensor)"
      ],
      "metadata": {
        "id": "nXZpp5955lHA",
        "outputId": "6f8ebe38-983e-47af-8806-58773684d3c1",
        "colab": {
          "base_uri": "https://localhost:8080/"
        }
      },
      "execution_count": 155,
      "outputs": [
        {
          "output_type": "execute_result",
          "data": {
            "text/plain": [
              "10000"
            ]
          },
          "metadata": {},
          "execution_count": 155
        }
      ]
    },
    {
      "cell_type": "code",
      "source": [
        "#installing torchmetrics\n",
        "# see if required packages are installed and if not , install them...\n",
        "try :\n",
        "\n",
        "  import torchmetrics , mlxtend\n",
        "  print(f\"mlxtend version : {mlxtend.__version__}\")\n",
        "  assert int(mlxtend.__version__.split(\".\")[1] >= 19 , 'mlxtend version should be 0.19 or higher')\n",
        "\n",
        "except:\n",
        "  !pip install -q torchmetrics -U mlxtend\n",
        "  import torchmetrics , mlxtend\n",
        "  print(f\"mlxtend version is :{mlxtend.__version__}\")\n",
        "\n",
        "\n"
      ],
      "metadata": {
        "id": "sP6o0YFz90ef",
        "outputId": "44ebcac1-e5d7-4c6a-8a5f-02f280a6ece6",
        "colab": {
          "base_uri": "https://localhost:8080/"
        }
      },
      "execution_count": 157,
      "outputs": [
        {
          "output_type": "stream",
          "name": "stdout",
          "text": [
            "\u001b[2K   \u001b[90m━━━━━━━━━━━━━━━━━━━━━━━━━━━━━━━━━━━━━━━━\u001b[0m \u001b[32m963.5/963.5 kB\u001b[0m \u001b[31m15.0 MB/s\u001b[0m eta \u001b[36m0:00:00\u001b[0m\n",
            "\u001b[2K   \u001b[90m━━━━━━━━━━━━━━━━━━━━━━━━━━━━━━━━━━━━━━━━\u001b[0m \u001b[32m363.4/363.4 MB\u001b[0m \u001b[31m1.6 MB/s\u001b[0m eta \u001b[36m0:00:00\u001b[0m\n",
            "\u001b[2K   \u001b[90m━━━━━━━━━━━━━━━━━━━━━━━━━━━━━━━━━━━━━━━━\u001b[0m \u001b[32m13.8/13.8 MB\u001b[0m \u001b[31m75.4 MB/s\u001b[0m eta \u001b[36m0:00:00\u001b[0m\n",
            "\u001b[2K   \u001b[90m━━━━━━━━━━━━━━━━━━━━━━━━━━━━━━━━━━━━━━━━\u001b[0m \u001b[32m24.6/24.6 MB\u001b[0m \u001b[31m21.6 MB/s\u001b[0m eta \u001b[36m0:00:00\u001b[0m\n",
            "\u001b[2K   \u001b[90m━━━━━━━━━━━━━━━━━━━━━━━━━━━━━━━━━━━━━━━━\u001b[0m \u001b[32m883.7/883.7 kB\u001b[0m \u001b[31m34.7 MB/s\u001b[0m eta \u001b[36m0:00:00\u001b[0m\n",
            "\u001b[2K   \u001b[90m━━━━━━━━━━━━━━━━━━━━━━━━━━━━━━━━━━━━━━━\u001b[0m \u001b[32m664.8/664.8 MB\u001b[0m \u001b[31m511.2 kB/s\u001b[0m eta \u001b[36m0:00:00\u001b[0m\n",
            "\u001b[2K   \u001b[90m━━━━━━━━━━━━━━━━━━━━━━━━━━━━━━━━━━━━━━━━\u001b[0m \u001b[32m211.5/211.5 MB\u001b[0m \u001b[31m1.5 MB/s\u001b[0m eta \u001b[36m0:00:00\u001b[0m\n",
            "\u001b[2K   \u001b[90m━━━━━━━━━━━━━━━━━━━━━━━━━━━━━━━━━━━━━━━━\u001b[0m \u001b[32m56.3/56.3 MB\u001b[0m \u001b[31m13.9 MB/s\u001b[0m eta \u001b[36m0:00:00\u001b[0m\n",
            "\u001b[2K   \u001b[90m━━━━━━━━━━━━━━━━━━━━━━━━━━━━━━━━━━━━━━━━\u001b[0m \u001b[32m127.9/127.9 MB\u001b[0m \u001b[31m8.6 MB/s\u001b[0m eta \u001b[36m0:00:00\u001b[0m\n",
            "\u001b[2K   \u001b[90m━━━━━━━━━━━━━━━━━━━━━━━━━━━━━━━━━━━━━━━━\u001b[0m \u001b[32m207.5/207.5 MB\u001b[0m \u001b[31m2.7 MB/s\u001b[0m eta \u001b[36m0:00:00\u001b[0m\n",
            "\u001b[2K   \u001b[90m━━━━━━━━━━━━━━━━━━━━━━━━━━━━━━━━━━━━━━━━\u001b[0m \u001b[32m21.1/21.1 MB\u001b[0m \u001b[31m74.1 MB/s\u001b[0m eta \u001b[36m0:00:00\u001b[0m\n",
            "\u001b[?25hmlxtend version is :0.23.4\n"
          ]
        }
      ]
    },
    {
      "cell_type": "code",
      "source": [
        "from torchmetrics import ConfusionMatrix\n",
        "from mlxtend.plotting import plot_confusion_matrix\n",
        "\n",
        "#setup confusion instance and compare predictions to targets\n",
        "confmat = ConfusionMatrix(num_classes = len(class_names) , task = \"multiclass\")\n",
        "confmat_tensor = confmat(preds = y_pred_tensor ,\n",
        "                         target = test_data.targets)\n",
        "\n",
        "#plotting confusion matrix\n",
        "fig , ax = plot_confusion_matrix(\n",
        "    conf_mat = confmat_tensor.numpy() ,\n",
        "    class_names = class_names,\n",
        "    figsize =(10,7)\n",
        ")\n"
      ],
      "metadata": {
        "id": "P7klT-mb974A",
        "outputId": "62f08748-8652-40d4-c586-fbf1f4ad1dbf",
        "colab": {
          "base_uri": "https://localhost:8080/",
          "height": 667
        }
      },
      "execution_count": 161,
      "outputs": [
        {
          "output_type": "display_data",
          "data": {
            "text/plain": [
              "<Figure size 1000x700 with 1 Axes>"
            ],
            "image/png": "[encoded data removed]"
          },
          "metadata": {}
        }
      ]
    },
    {
      "cell_type": "markdown",
      "source": [
        "# 11. Save and load best performing model"
      ],
      "metadata": {
        "id": "wqq2jwCBCPvR"
      }
    },
    {
      "cell_type": "code",
      "source": [
        "from pathlib import Path\n",
        "#create a directory\n",
        "MODEL_PATH = Path(\"models\")\n",
        "MODEL_PATH.mkdir(parents = True , exist_ok = True)\n",
        "\n",
        "MODEL_NAME = \"03_pytorch_computer_vision_model_2.pth\"\n",
        "MODEL_SAVE_PATH = MODEL_PATH / MODEL_NAME\n",
        "\n",
        "#save the model\n",
        "print(f\"saving model to :{MODEL_SAVE_PATH}\")\n",
        "torch.save(obj = model_2.state_dict() , f=MODEL_SAVE_PATH)\n"
      ],
      "metadata": {
        "id": "-2jvCkeLEA27",
        "outputId": "e8a96701-308b-4707-f0ec-776a8364a643",
        "colab": {
          "base_uri": "https://localhost:8080/"
        }
      },
      "execution_count": 164,
      "outputs": [
        {
          "output_type": "stream",
          "name": "stdout",
          "text": [
            "saving model to :models/03_pytorch_computer_vision_model_2.pth\n"
          ]
        }
      ]
    },
    {
      "cell_type": "code",
      "source": [
        "#checking if the model saved or not\n",
        "torch.manual_seed(42)\n",
        "#Create a new instance of the class\n",
        "loaded_model_2 = FashionMNISImodelv2(input_shape = 1,\n",
        "                                   hidden_units = 10,\n",
        "                                   output_shape = len(class_names))\n",
        "\n",
        "#load in the save state_dict()\n",
        "loaded_model_2.load_state_dict( torch.load(f= MODEL_SAVE_PATH))\n",
        "\n",
        "#send model to target device\n",
        "loaded_model_2.to(device)"
      ],
      "metadata": {
        "id": "w2coCoPLGcBC",
        "outputId": "5404ccbe-5725-4108-9b7c-7092d9f4a9a3",
        "colab": {
          "base_uri": "https://localhost:8080/"
        }
      },
      "execution_count": 165,
      "outputs": [
        {
          "output_type": "execute_result",
          "data": {
            "text/plain": [
              "FashionMNISImodelv2(\n",
              "  (conv_block_1): Sequential(\n",
              "    (0): Conv2d(1, 10, kernel_size=(3, 3), stride=(1, 1), padding=(1, 1))\n",
              "    (1): ReLU()\n",
              "    (2): Conv2d(10, 10, kernel_size=(3, 3), stride=(1, 1), padding=(1, 1))\n",
              "    (3): ReLU()\n",
              "    (4): MaxPool2d(kernel_size=2, stride=2, padding=0, dilation=1, ceil_mode=False)\n",
              "  )\n",
              "  (conv_block_2): Sequential(\n",
              "    (0): Conv2d(10, 10, kernel_size=(3, 3), stride=(1, 1), padding=(1, 1))\n",
              "    (1): ReLU()\n",
              "    (2): Conv2d(10, 10, kernel_size=(3, 3), stride=(1, 1), padding=(1, 1))\n",
              "    (3): ReLU()\n",
              "    (4): MaxPool2d(kernel_size=2, stride=2, padding=0, dilation=1, ceil_mode=False)\n",
              "  )\n",
              "  (classifier): Sequential(\n",
              "    (0): Flatten(start_dim=1, end_dim=-1)\n",
              "    (1): Linear(in_features=490, out_features=10, bias=True)\n",
              "  )\n",
              ")"
            ]
          },
          "metadata": {},
          "execution_count": 165
        }
      ]
    },
    {
      "cell_type": "code",
      "source": [
        "model_2_results"
      ],
      "metadata": {
        "id": "0yJudE4IJedu",
        "outputId": "d93f4ddc-8c37-4eb6-fcdc-67458e3e504f",
        "colab": {
          "base_uri": "https://localhost:8080/"
        }
      },
      "execution_count": 166,
      "outputs": [
        {
          "output_type": "execute_result",
          "data": {
            "text/plain": [
              "{'model_name': 'FashionMNISImodelv2',\n",
              " 'model_loss': 0.32718968391418457,\n",
              " 'model_accuracy': 88.06908945686901}"
            ]
          },
          "metadata": {},
          "execution_count": 166
        }
      ]
    },
    {
      "cell_type": "code",
      "source": [
        "#Evaluate loaded model\n",
        "torch.manual_seed(42)\n",
        "loaded_model_2.to(device)\n",
        "\n",
        "loaded_model_2_results = eval_model(\n",
        "    loaded_model_2,\n",
        "    test_dataloader,\n",
        "    loss_fn,\n",
        "    accuracy_fn,\n",
        "    device)\n",
        "\n",
        "loaded_model_2_results"
      ],
      "metadata": {
        "id": "wn_D2I3JJEtR",
        "outputId": "b04e9f08-4ee6-4ccf-e486-92c13d77f2da",
        "colab": {
          "base_uri": "https://localhost:8080/"
        }
      },
      "execution_count": 168,
      "outputs": [
        {
          "output_type": "execute_result",
          "data": {
            "text/plain": [
              "{'model_name': 'FashionMNISImodelv2',\n",
              " 'model_loss': 0.32718968391418457,\n",
              " 'model_accuracy': 88.06908945686901}"
            ]
          },
          "metadata": {},
          "execution_count": 168
        }
      ]
    },
    {
      "cell_type": "code",
      "source": [
        "#check if model results are close to each other or not\n",
        "\n",
        "torch.isclose(torch.tensor(model_2_results[\"model_loss\"]) ,\n",
        "              torch.tensor(loaded_model_2_results[\"model_loss\"]),\n",
        "              atol = 1e-05\n",
        "              )"
      ],
      "metadata": {
        "id": "DjPuS-KUKPBF",
        "outputId": "3e3b5408-92d5-4c6e-f914-d655331ad062",
        "colab": {
          "base_uri": "https://localhost:8080/"
        }
      },
      "execution_count": 170,
      "outputs": [
        {
          "output_type": "execute_result",
          "data": {
            "text/plain": [
              "tensor(True)"
            ]
          },
          "metadata": {},
          "execution_count": 170
        }
      ]
    },
    {
      "cell_type": "code",
      "source": [],
      "metadata": {
        "id": "iDT2vcu4Ks2c"
      },
      "execution_count": null,
      "outputs": []
    }
  ]
}